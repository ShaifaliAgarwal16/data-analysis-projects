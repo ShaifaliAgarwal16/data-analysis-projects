{
 "cells": [
  {
   "cell_type": "markdown",
   "id": "41f073d6-2e6e-464b-8dc2-12fa583450ee",
   "metadata": {},
   "source": [
    "# DESCRIPTION\n",
    "\n",
    "### Objective: Make a model to predict the app rating, with other information about the app provided.\n",
    "### Problem Statement:\n",
    "Google Play Store team is about to launch a new feature wherein, certain apps that are promising, are boosted in visibility. The boost will manifest in multiple ways including higher priority in recommendations sections (“Similar apps”, “You might also like”, “New and updated games”). These will also get a boost in search results visibility. This feature will help bring more attention to newer apps that have the potential.\n",
    "\n",
    "### Domain: General\n",
    "Analysis to be done: The problem is to identify the apps that are going to be good for Google to promote. App ratings, which are provided by the customers, is always a great indicator of the goodness of the app. The problem reduces to: predict which apps will have high ratings."
   ]
  },
  {
   "cell_type": "code",
   "execution_count": 2,
   "id": "3754ea5f-98c9-44c2-83d9-0ef8d33fc137",
   "metadata": {},
   "outputs": [
    {
     "name": "stdout",
     "output_type": "stream",
     "text": [
      "3.12.4 | packaged by Anaconda, Inc. | (main, Jun 18 2024, 15:03:56) [MSC v.1929 64 bit (AMD64)]\n"
     ]
    }
   ],
   "source": [
    "import sys # importing the sys module\n",
    "\n",
    "print (sys.version) "
   ]
  },
  {
   "cell_type": "code",
   "execution_count": 3,
   "id": "7c8061b7-c5d7-476a-9ccd-5d2efe56c367",
   "metadata": {},
   "outputs": [],
   "source": [
    "import pandas as pd\n",
    "import numpy as np\n",
    "import matplotlib.pyplot as plt, seaborn as sns\n",
    "%matplotlib inline\n",
    "\n",
    "import warnings\n",
    "warnings.simplefilter(action='ignore', category=FutureWarning)"
   ]
  },
  {
   "cell_type": "markdown",
   "id": "98ce155a-64f7-4ecf-89ae-0a55c5b8ef83",
   "metadata": {},
   "source": [
    "# Steps to perform:"
   ]
  },
  {
   "cell_type": "markdown",
   "id": "a8ba72fd-f6b0-47e3-9aa3-399f28694aa4",
   "metadata": {},
   "source": [
    "## 1. Load the data file using pandas."
   ]
  },
  {
   "cell_type": "code",
   "execution_count": 6,
   "id": "345bea8e-57fa-484d-aec1-26bb02ea9ce9",
   "metadata": {},
   "outputs": [],
   "source": [
    "inp0 = pd.read_csv(\"googleplaystore.csv\")"
   ]
  },
  {
   "cell_type": "code",
   "execution_count": 7,
   "id": "2a13b0b2-a716-4d47-8c69-ccfdfe607083",
   "metadata": {},
   "outputs": [
    {
     "data": {
      "text/html": [
       "<div>\n",
       "<style scoped>\n",
       "    .dataframe tbody tr th:only-of-type {\n",
       "        vertical-align: middle;\n",
       "    }\n",
       "\n",
       "    .dataframe tbody tr th {\n",
       "        vertical-align: top;\n",
       "    }\n",
       "\n",
       "    .dataframe thead th {\n",
       "        text-align: right;\n",
       "    }\n",
       "</style>\n",
       "<table border=\"1\" class=\"dataframe\">\n",
       "  <thead>\n",
       "    <tr style=\"text-align: right;\">\n",
       "      <th></th>\n",
       "      <th>App</th>\n",
       "      <th>Category</th>\n",
       "      <th>Rating</th>\n",
       "      <th>Reviews</th>\n",
       "      <th>Size</th>\n",
       "      <th>Installs</th>\n",
       "      <th>Type</th>\n",
       "      <th>Price</th>\n",
       "      <th>Content Rating</th>\n",
       "      <th>Genres</th>\n",
       "      <th>Last Updated</th>\n",
       "      <th>Current Ver</th>\n",
       "      <th>Android Ver</th>\n",
       "    </tr>\n",
       "  </thead>\n",
       "  <tbody>\n",
       "    <tr>\n",
       "      <th>0</th>\n",
       "      <td>Photo Editor &amp; Candy Camera &amp; Grid &amp; ScrapBook</td>\n",
       "      <td>ART_AND_DESIGN</td>\n",
       "      <td>4.1</td>\n",
       "      <td>159</td>\n",
       "      <td>19M</td>\n",
       "      <td>10,000+</td>\n",
       "      <td>Free</td>\n",
       "      <td>0</td>\n",
       "      <td>Everyone</td>\n",
       "      <td>Art &amp; Design</td>\n",
       "      <td>January 7, 2018</td>\n",
       "      <td>1.0.0</td>\n",
       "      <td>4.0.3 and up</td>\n",
       "    </tr>\n",
       "    <tr>\n",
       "      <th>1</th>\n",
       "      <td>Coloring book moana</td>\n",
       "      <td>ART_AND_DESIGN</td>\n",
       "      <td>3.9</td>\n",
       "      <td>967</td>\n",
       "      <td>14M</td>\n",
       "      <td>500,000+</td>\n",
       "      <td>Free</td>\n",
       "      <td>0</td>\n",
       "      <td>Everyone</td>\n",
       "      <td>Art &amp; Design;Pretend Play</td>\n",
       "      <td>January 15, 2018</td>\n",
       "      <td>2.0.0</td>\n",
       "      <td>4.0.3 and up</td>\n",
       "    </tr>\n",
       "    <tr>\n",
       "      <th>2</th>\n",
       "      <td>U Launcher Lite – FREE Live Cool Themes, Hide ...</td>\n",
       "      <td>ART_AND_DESIGN</td>\n",
       "      <td>4.7</td>\n",
       "      <td>87510</td>\n",
       "      <td>8.7M</td>\n",
       "      <td>5,000,000+</td>\n",
       "      <td>Free</td>\n",
       "      <td>0</td>\n",
       "      <td>Everyone</td>\n",
       "      <td>Art &amp; Design</td>\n",
       "      <td>August 1, 2018</td>\n",
       "      <td>1.2.4</td>\n",
       "      <td>4.0.3 and up</td>\n",
       "    </tr>\n",
       "    <tr>\n",
       "      <th>3</th>\n",
       "      <td>Sketch - Draw &amp; Paint</td>\n",
       "      <td>ART_AND_DESIGN</td>\n",
       "      <td>4.5</td>\n",
       "      <td>215644</td>\n",
       "      <td>25M</td>\n",
       "      <td>50,000,000+</td>\n",
       "      <td>Free</td>\n",
       "      <td>0</td>\n",
       "      <td>Teen</td>\n",
       "      <td>Art &amp; Design</td>\n",
       "      <td>June 8, 2018</td>\n",
       "      <td>Varies with device</td>\n",
       "      <td>4.2 and up</td>\n",
       "    </tr>\n",
       "    <tr>\n",
       "      <th>4</th>\n",
       "      <td>Pixel Draw - Number Art Coloring Book</td>\n",
       "      <td>ART_AND_DESIGN</td>\n",
       "      <td>4.3</td>\n",
       "      <td>967</td>\n",
       "      <td>2.8M</td>\n",
       "      <td>100,000+</td>\n",
       "      <td>Free</td>\n",
       "      <td>0</td>\n",
       "      <td>Everyone</td>\n",
       "      <td>Art &amp; Design;Creativity</td>\n",
       "      <td>June 20, 2018</td>\n",
       "      <td>1.1</td>\n",
       "      <td>4.4 and up</td>\n",
       "    </tr>\n",
       "  </tbody>\n",
       "</table>\n",
       "</div>"
      ],
      "text/plain": [
       "                                                 App        Category  Rating  \\\n",
       "0     Photo Editor & Candy Camera & Grid & ScrapBook  ART_AND_DESIGN     4.1   \n",
       "1                                Coloring book moana  ART_AND_DESIGN     3.9   \n",
       "2  U Launcher Lite – FREE Live Cool Themes, Hide ...  ART_AND_DESIGN     4.7   \n",
       "3                              Sketch - Draw & Paint  ART_AND_DESIGN     4.5   \n",
       "4              Pixel Draw - Number Art Coloring Book  ART_AND_DESIGN     4.3   \n",
       "\n",
       "  Reviews  Size     Installs  Type Price Content Rating  \\\n",
       "0     159   19M      10,000+  Free     0       Everyone   \n",
       "1     967   14M     500,000+  Free     0       Everyone   \n",
       "2   87510  8.7M   5,000,000+  Free     0       Everyone   \n",
       "3  215644   25M  50,000,000+  Free     0           Teen   \n",
       "4     967  2.8M     100,000+  Free     0       Everyone   \n",
       "\n",
       "                      Genres      Last Updated         Current Ver  \\\n",
       "0               Art & Design   January 7, 2018               1.0.0   \n",
       "1  Art & Design;Pretend Play  January 15, 2018               2.0.0   \n",
       "2               Art & Design    August 1, 2018               1.2.4   \n",
       "3               Art & Design      June 8, 2018  Varies with device   \n",
       "4    Art & Design;Creativity     June 20, 2018                 1.1   \n",
       "\n",
       "    Android Ver  \n",
       "0  4.0.3 and up  \n",
       "1  4.0.3 and up  \n",
       "2  4.0.3 and up  \n",
       "3    4.2 and up  \n",
       "4    4.4 and up  "
      ]
     },
     "execution_count": 7,
     "metadata": {},
     "output_type": "execute_result"
    }
   ],
   "source": [
    "inp0.head()"
   ]
  },
  {
   "cell_type": "code",
   "execution_count": 8,
   "id": "482a5f44-464c-4ec2-bf2c-496ace37cacf",
   "metadata": {},
   "outputs": [
    {
     "name": "stdout",
     "output_type": "stream",
     "text": [
      "<class 'pandas.core.frame.DataFrame'>\n",
      "RangeIndex: 10841 entries, 0 to 10840\n",
      "Data columns (total 13 columns):\n",
      " #   Column          Non-Null Count  Dtype  \n",
      "---  ------          --------------  -----  \n",
      " 0   App             10841 non-null  object \n",
      " 1   Category        10841 non-null  object \n",
      " 2   Rating          9367 non-null   float64\n",
      " 3   Reviews         10841 non-null  object \n",
      " 4   Size            10841 non-null  object \n",
      " 5   Installs        10841 non-null  object \n",
      " 6   Type            10840 non-null  object \n",
      " 7   Price           10841 non-null  object \n",
      " 8   Content Rating  10840 non-null  object \n",
      " 9   Genres          10841 non-null  object \n",
      " 10  Last Updated    10841 non-null  object \n",
      " 11  Current Ver     10833 non-null  object \n",
      " 12  Android Ver     10838 non-null  object \n",
      "dtypes: float64(1), object(12)\n",
      "memory usage: 1.1+ MB\n"
     ]
    }
   ],
   "source": [
    "inp0.info()"
   ]
  },
  {
   "cell_type": "markdown",
   "id": "d6959b57-470a-4fa8-a0fe-c5396b4e9d3f",
   "metadata": {},
   "source": [
    "## 2. Check for null values in the data. Get the number of null values for each column."
   ]
  },
  {
   "cell_type": "code",
   "execution_count": 10,
   "id": "819ff3e6-55b4-49d1-9ff4-e75df3048aae",
   "metadata": {},
   "outputs": [
    {
     "data": {
      "text/html": [
       "<div>\n",
       "<style scoped>\n",
       "    .dataframe tbody tr th:only-of-type {\n",
       "        vertical-align: middle;\n",
       "    }\n",
       "\n",
       "    .dataframe tbody tr th {\n",
       "        vertical-align: top;\n",
       "    }\n",
       "\n",
       "    .dataframe thead th {\n",
       "        text-align: right;\n",
       "    }\n",
       "</style>\n",
       "<table border=\"1\" class=\"dataframe\">\n",
       "  <thead>\n",
       "    <tr style=\"text-align: right;\">\n",
       "      <th></th>\n",
       "      <th>App</th>\n",
       "      <th>Category</th>\n",
       "      <th>Rating</th>\n",
       "      <th>Reviews</th>\n",
       "      <th>Size</th>\n",
       "      <th>Installs</th>\n",
       "      <th>Type</th>\n",
       "      <th>Price</th>\n",
       "      <th>Content Rating</th>\n",
       "      <th>Genres</th>\n",
       "      <th>Last Updated</th>\n",
       "      <th>Current Ver</th>\n",
       "      <th>Android Ver</th>\n",
       "    </tr>\n",
       "  </thead>\n",
       "  <tbody>\n",
       "    <tr>\n",
       "      <th>0</th>\n",
       "      <td>False</td>\n",
       "      <td>False</td>\n",
       "      <td>False</td>\n",
       "      <td>False</td>\n",
       "      <td>False</td>\n",
       "      <td>False</td>\n",
       "      <td>False</td>\n",
       "      <td>False</td>\n",
       "      <td>False</td>\n",
       "      <td>False</td>\n",
       "      <td>False</td>\n",
       "      <td>False</td>\n",
       "      <td>False</td>\n",
       "    </tr>\n",
       "    <tr>\n",
       "      <th>1</th>\n",
       "      <td>False</td>\n",
       "      <td>False</td>\n",
       "      <td>False</td>\n",
       "      <td>False</td>\n",
       "      <td>False</td>\n",
       "      <td>False</td>\n",
       "      <td>False</td>\n",
       "      <td>False</td>\n",
       "      <td>False</td>\n",
       "      <td>False</td>\n",
       "      <td>False</td>\n",
       "      <td>False</td>\n",
       "      <td>False</td>\n",
       "    </tr>\n",
       "    <tr>\n",
       "      <th>2</th>\n",
       "      <td>False</td>\n",
       "      <td>False</td>\n",
       "      <td>False</td>\n",
       "      <td>False</td>\n",
       "      <td>False</td>\n",
       "      <td>False</td>\n",
       "      <td>False</td>\n",
       "      <td>False</td>\n",
       "      <td>False</td>\n",
       "      <td>False</td>\n",
       "      <td>False</td>\n",
       "      <td>False</td>\n",
       "      <td>False</td>\n",
       "    </tr>\n",
       "    <tr>\n",
       "      <th>3</th>\n",
       "      <td>False</td>\n",
       "      <td>False</td>\n",
       "      <td>False</td>\n",
       "      <td>False</td>\n",
       "      <td>False</td>\n",
       "      <td>False</td>\n",
       "      <td>False</td>\n",
       "      <td>False</td>\n",
       "      <td>False</td>\n",
       "      <td>False</td>\n",
       "      <td>False</td>\n",
       "      <td>False</td>\n",
       "      <td>False</td>\n",
       "    </tr>\n",
       "    <tr>\n",
       "      <th>4</th>\n",
       "      <td>False</td>\n",
       "      <td>False</td>\n",
       "      <td>False</td>\n",
       "      <td>False</td>\n",
       "      <td>False</td>\n",
       "      <td>False</td>\n",
       "      <td>False</td>\n",
       "      <td>False</td>\n",
       "      <td>False</td>\n",
       "      <td>False</td>\n",
       "      <td>False</td>\n",
       "      <td>False</td>\n",
       "      <td>False</td>\n",
       "    </tr>\n",
       "    <tr>\n",
       "      <th>...</th>\n",
       "      <td>...</td>\n",
       "      <td>...</td>\n",
       "      <td>...</td>\n",
       "      <td>...</td>\n",
       "      <td>...</td>\n",
       "      <td>...</td>\n",
       "      <td>...</td>\n",
       "      <td>...</td>\n",
       "      <td>...</td>\n",
       "      <td>...</td>\n",
       "      <td>...</td>\n",
       "      <td>...</td>\n",
       "      <td>...</td>\n",
       "    </tr>\n",
       "    <tr>\n",
       "      <th>10836</th>\n",
       "      <td>False</td>\n",
       "      <td>False</td>\n",
       "      <td>False</td>\n",
       "      <td>False</td>\n",
       "      <td>False</td>\n",
       "      <td>False</td>\n",
       "      <td>False</td>\n",
       "      <td>False</td>\n",
       "      <td>False</td>\n",
       "      <td>False</td>\n",
       "      <td>False</td>\n",
       "      <td>False</td>\n",
       "      <td>False</td>\n",
       "    </tr>\n",
       "    <tr>\n",
       "      <th>10837</th>\n",
       "      <td>False</td>\n",
       "      <td>False</td>\n",
       "      <td>False</td>\n",
       "      <td>False</td>\n",
       "      <td>False</td>\n",
       "      <td>False</td>\n",
       "      <td>False</td>\n",
       "      <td>False</td>\n",
       "      <td>False</td>\n",
       "      <td>False</td>\n",
       "      <td>False</td>\n",
       "      <td>False</td>\n",
       "      <td>False</td>\n",
       "    </tr>\n",
       "    <tr>\n",
       "      <th>10838</th>\n",
       "      <td>False</td>\n",
       "      <td>False</td>\n",
       "      <td>True</td>\n",
       "      <td>False</td>\n",
       "      <td>False</td>\n",
       "      <td>False</td>\n",
       "      <td>False</td>\n",
       "      <td>False</td>\n",
       "      <td>False</td>\n",
       "      <td>False</td>\n",
       "      <td>False</td>\n",
       "      <td>False</td>\n",
       "      <td>False</td>\n",
       "    </tr>\n",
       "    <tr>\n",
       "      <th>10839</th>\n",
       "      <td>False</td>\n",
       "      <td>False</td>\n",
       "      <td>False</td>\n",
       "      <td>False</td>\n",
       "      <td>False</td>\n",
       "      <td>False</td>\n",
       "      <td>False</td>\n",
       "      <td>False</td>\n",
       "      <td>False</td>\n",
       "      <td>False</td>\n",
       "      <td>False</td>\n",
       "      <td>False</td>\n",
       "      <td>False</td>\n",
       "    </tr>\n",
       "    <tr>\n",
       "      <th>10840</th>\n",
       "      <td>False</td>\n",
       "      <td>False</td>\n",
       "      <td>False</td>\n",
       "      <td>False</td>\n",
       "      <td>False</td>\n",
       "      <td>False</td>\n",
       "      <td>False</td>\n",
       "      <td>False</td>\n",
       "      <td>False</td>\n",
       "      <td>False</td>\n",
       "      <td>False</td>\n",
       "      <td>False</td>\n",
       "      <td>False</td>\n",
       "    </tr>\n",
       "  </tbody>\n",
       "</table>\n",
       "<p>10841 rows × 13 columns</p>\n",
       "</div>"
      ],
      "text/plain": [
       "         App  Category  Rating  Reviews   Size  Installs   Type  Price  \\\n",
       "0      False     False   False    False  False     False  False  False   \n",
       "1      False     False   False    False  False     False  False  False   \n",
       "2      False     False   False    False  False     False  False  False   \n",
       "3      False     False   False    False  False     False  False  False   \n",
       "4      False     False   False    False  False     False  False  False   \n",
       "...      ...       ...     ...      ...    ...       ...    ...    ...   \n",
       "10836  False     False   False    False  False     False  False  False   \n",
       "10837  False     False   False    False  False     False  False  False   \n",
       "10838  False     False    True    False  False     False  False  False   \n",
       "10839  False     False   False    False  False     False  False  False   \n",
       "10840  False     False   False    False  False     False  False  False   \n",
       "\n",
       "       Content Rating  Genres  Last Updated  Current Ver  Android Ver  \n",
       "0               False   False         False        False        False  \n",
       "1               False   False         False        False        False  \n",
       "2               False   False         False        False        False  \n",
       "3               False   False         False        False        False  \n",
       "4               False   False         False        False        False  \n",
       "...               ...     ...           ...          ...          ...  \n",
       "10836           False   False         False        False        False  \n",
       "10837           False   False         False        False        False  \n",
       "10838           False   False         False        False        False  \n",
       "10839           False   False         False        False        False  \n",
       "10840           False   False         False        False        False  \n",
       "\n",
       "[10841 rows x 13 columns]"
      ]
     },
     "execution_count": 10,
     "metadata": {},
     "output_type": "execute_result"
    }
   ],
   "source": [
    "inp0.isnull() #Checking if we have null values in the data set"
   ]
  },
  {
   "cell_type": "markdown",
   "id": "295102ea-b134-4021-91a9-f2e8ce434df8",
   "metadata": {},
   "source": [
    "#### Checking Total number of null values present in our dataset\n"
   ]
  },
  {
   "cell_type": "code",
   "execution_count": 12,
   "id": "bb50dacb-01df-472d-9ab6-56b1e75d27a6",
   "metadata": {},
   "outputs": [
    {
     "data": {
      "text/plain": [
       "App                  0\n",
       "Category             0\n",
       "Rating            1474\n",
       "Reviews              0\n",
       "Size                 0\n",
       "Installs             0\n",
       "Type                 1\n",
       "Price                0\n",
       "Content Rating       1\n",
       "Genres               0\n",
       "Last Updated         0\n",
       "Current Ver          8\n",
       "Android Ver          3\n",
       "dtype: int64"
      ]
     },
     "execution_count": 12,
     "metadata": {},
     "output_type": "execute_result"
    }
   ],
   "source": [
    "inp0.isnull().sum()\n"
   ]
  },
  {
   "cell_type": "markdown",
   "id": "c73bde60-06d3-48ad-9722-c85a788b893c",
   "metadata": {},
   "source": [
    "## 3. Drop records with nulls in any of the columns."
   ]
  },
  {
   "cell_type": "markdown",
   "id": "49d1af83-d737-4836-8f0f-517911b557b0",
   "metadata": {},
   "source": [
    "\n",
    "#### Dropping the records with null ratings\n",
    "- this is done because ratings is our target variable"
   ]
  },
  {
   "cell_type": "code",
   "execution_count": 15,
   "id": "45330d39-a367-48c6-9742-f332f6887f00",
   "metadata": {},
   "outputs": [],
   "source": [
    "inp0_Null_dropped = inp0.dropna(how = 'any')"
   ]
  },
  {
   "cell_type": "code",
   "execution_count": 16,
   "id": "60ec62e6-f6d8-4764-8230-b300ea56640e",
   "metadata": {},
   "outputs": [
    {
     "name": "stdout",
     "output_type": "stream",
     "text": [
      "Shape of the data set Before deletiopn:  (10841, 13)\n",
      "\n",
      "Shape of the data set After deletion:  (9360, 13)\n"
     ]
    }
   ],
   "source": [
    "print (\"Shape of the data set Before deletiopn: \", inp0.shape)\n",
    "print ()\n",
    "print (\"Shape of the data set After deletion: \", inp0_Null_dropped.shape)"
   ]
  },
  {
   "cell_type": "markdown",
   "id": "b30f6849-1bd8-4958-b35e-361bf9ddfbc4",
   "metadata": {},
   "source": [
    "### Total percentage of the data we will end up after deletion"
   ]
  },
  {
   "cell_type": "code",
   "execution_count": 18,
   "id": "174f1dc8-ef57-4bcc-9e6b-ef1cbaa507f9",
   "metadata": {},
   "outputs": [
    {
     "data": {
      "text/plain": [
       "13.661101374411954"
      ]
     },
     "execution_count": 18,
     "metadata": {},
     "output_type": "execute_result"
    }
   ],
   "source": [
    "Deleted_data = (10841-9360)/10841*100\n",
    "Deleted_data"
   ]
  },
  {
   "cell_type": "markdown",
   "id": "d87cca35-737e-40e0-b74f-51c0a881bf97",
   "metadata": {},
   "source": [
    "### As the deleted data is less than 20% of the data set, therefore it is good to go with the deletion of the rows having null values."
   ]
  },
  {
   "cell_type": "markdown",
   "id": "ea2296f1-2d8b-4358-b536-95fef5ed8dcb",
   "metadata": {},
   "source": [
    "#### Checking if the no null values left in our data set. "
   ]
  },
  {
   "cell_type": "code",
   "execution_count": 21,
   "id": "dc63f98a-d5fc-47a6-83f7-7791508aa215",
   "metadata": {},
   "outputs": [
    {
     "data": {
      "text/plain": [
       "App               0\n",
       "Category          0\n",
       "Rating            0\n",
       "Reviews           0\n",
       "Size              0\n",
       "Installs          0\n",
       "Type              0\n",
       "Price             0\n",
       "Content Rating    0\n",
       "Genres            0\n",
       "Last Updated      0\n",
       "Current Ver       0\n",
       "Android Ver       0\n",
       "dtype: int64"
      ]
     },
     "execution_count": 21,
     "metadata": {},
     "output_type": "execute_result"
    }
   ],
   "source": [
    "inp0_Null_dropped.isnull().sum()"
   ]
  },
  {
   "cell_type": "code",
   "execution_count": 22,
   "id": "b63e24d7-c46d-4a78-a155-dcb4aeddf7d9",
   "metadata": {},
   "outputs": [
    {
     "data": {
      "text/plain": [
       "App                object\n",
       "Category           object\n",
       "Rating            float64\n",
       "Reviews            object\n",
       "Size               object\n",
       "Installs           object\n",
       "Type               object\n",
       "Price              object\n",
       "Content Rating     object\n",
       "Genres             object\n",
       "Last Updated       object\n",
       "Current Ver        object\n",
       "Android Ver        object\n",
       "dtype: object"
      ]
     },
     "execution_count": 22,
     "metadata": {},
     "output_type": "execute_result"
    }
   ],
   "source": [
    "inp0_Null_dropped.dtypes"
   ]
  },
  {
   "cell_type": "code",
   "execution_count": 23,
   "id": "68908f4d-318b-4c07-bec6-13209803d5f9",
   "metadata": {},
   "outputs": [
    {
     "data": {
      "text/html": [
       "<div>\n",
       "<style scoped>\n",
       "    .dataframe tbody tr th:only-of-type {\n",
       "        vertical-align: middle;\n",
       "    }\n",
       "\n",
       "    .dataframe tbody tr th {\n",
       "        vertical-align: top;\n",
       "    }\n",
       "\n",
       "    .dataframe thead th {\n",
       "        text-align: right;\n",
       "    }\n",
       "</style>\n",
       "<table border=\"1\" class=\"dataframe\">\n",
       "  <thead>\n",
       "    <tr style=\"text-align: right;\">\n",
       "      <th></th>\n",
       "      <th>Rating</th>\n",
       "    </tr>\n",
       "  </thead>\n",
       "  <tbody>\n",
       "    <tr>\n",
       "      <th>count</th>\n",
       "      <td>9367.000000</td>\n",
       "    </tr>\n",
       "    <tr>\n",
       "      <th>mean</th>\n",
       "      <td>4.193338</td>\n",
       "    </tr>\n",
       "    <tr>\n",
       "      <th>std</th>\n",
       "      <td>0.537431</td>\n",
       "    </tr>\n",
       "    <tr>\n",
       "      <th>min</th>\n",
       "      <td>1.000000</td>\n",
       "    </tr>\n",
       "    <tr>\n",
       "      <th>25%</th>\n",
       "      <td>4.000000</td>\n",
       "    </tr>\n",
       "    <tr>\n",
       "      <th>50%</th>\n",
       "      <td>4.300000</td>\n",
       "    </tr>\n",
       "    <tr>\n",
       "      <th>75%</th>\n",
       "      <td>4.500000</td>\n",
       "    </tr>\n",
       "    <tr>\n",
       "      <th>max</th>\n",
       "      <td>19.000000</td>\n",
       "    </tr>\n",
       "  </tbody>\n",
       "</table>\n",
       "</div>"
      ],
      "text/plain": [
       "            Rating\n",
       "count  9367.000000\n",
       "mean      4.193338\n",
       "std       0.537431\n",
       "min       1.000000\n",
       "25%       4.000000\n",
       "50%       4.300000\n",
       "75%       4.500000\n",
       "max      19.000000"
      ]
     },
     "execution_count": 23,
     "metadata": {},
     "output_type": "execute_result"
    }
   ],
   "source": [
    "inp0.describe()"
   ]
  },
  {
   "cell_type": "code",
   "execution_count": 24,
   "id": "b634a48e-9570-4fb7-a611-c7cba69b6e57",
   "metadata": {},
   "outputs": [
    {
     "data": {
      "text/html": [
       "<div>\n",
       "<style scoped>\n",
       "    .dataframe tbody tr th:only-of-type {\n",
       "        vertical-align: middle;\n",
       "    }\n",
       "\n",
       "    .dataframe tbody tr th {\n",
       "        vertical-align: top;\n",
       "    }\n",
       "\n",
       "    .dataframe thead th {\n",
       "        text-align: right;\n",
       "    }\n",
       "</style>\n",
       "<table border=\"1\" class=\"dataframe\">\n",
       "  <thead>\n",
       "    <tr style=\"text-align: right;\">\n",
       "      <th></th>\n",
       "      <th>App</th>\n",
       "      <th>Category</th>\n",
       "      <th>Rating</th>\n",
       "      <th>Reviews</th>\n",
       "      <th>Size</th>\n",
       "      <th>Installs</th>\n",
       "      <th>Type</th>\n",
       "      <th>Price</th>\n",
       "      <th>Content Rating</th>\n",
       "      <th>Genres</th>\n",
       "      <th>Last Updated</th>\n",
       "      <th>Current Ver</th>\n",
       "      <th>Android Ver</th>\n",
       "    </tr>\n",
       "  </thead>\n",
       "  <tbody>\n",
       "    <tr>\n",
       "      <th>0</th>\n",
       "      <td>Photo Editor &amp; Candy Camera &amp; Grid &amp; ScrapBook</td>\n",
       "      <td>ART_AND_DESIGN</td>\n",
       "      <td>4.1</td>\n",
       "      <td>159</td>\n",
       "      <td>19M</td>\n",
       "      <td>10,000+</td>\n",
       "      <td>Free</td>\n",
       "      <td>0</td>\n",
       "      <td>Everyone</td>\n",
       "      <td>Art &amp; Design</td>\n",
       "      <td>January 7, 2018</td>\n",
       "      <td>1.0.0</td>\n",
       "      <td>4.0.3 and up</td>\n",
       "    </tr>\n",
       "    <tr>\n",
       "      <th>1</th>\n",
       "      <td>Coloring book moana</td>\n",
       "      <td>ART_AND_DESIGN</td>\n",
       "      <td>3.9</td>\n",
       "      <td>967</td>\n",
       "      <td>14M</td>\n",
       "      <td>500,000+</td>\n",
       "      <td>Free</td>\n",
       "      <td>0</td>\n",
       "      <td>Everyone</td>\n",
       "      <td>Art &amp; Design;Pretend Play</td>\n",
       "      <td>January 15, 2018</td>\n",
       "      <td>2.0.0</td>\n",
       "      <td>4.0.3 and up</td>\n",
       "    </tr>\n",
       "    <tr>\n",
       "      <th>2</th>\n",
       "      <td>U Launcher Lite – FREE Live Cool Themes, Hide ...</td>\n",
       "      <td>ART_AND_DESIGN</td>\n",
       "      <td>4.7</td>\n",
       "      <td>87510</td>\n",
       "      <td>8.7M</td>\n",
       "      <td>5,000,000+</td>\n",
       "      <td>Free</td>\n",
       "      <td>0</td>\n",
       "      <td>Everyone</td>\n",
       "      <td>Art &amp; Design</td>\n",
       "      <td>August 1, 2018</td>\n",
       "      <td>1.2.4</td>\n",
       "      <td>4.0.3 and up</td>\n",
       "    </tr>\n",
       "    <tr>\n",
       "      <th>3</th>\n",
       "      <td>Sketch - Draw &amp; Paint</td>\n",
       "      <td>ART_AND_DESIGN</td>\n",
       "      <td>4.5</td>\n",
       "      <td>215644</td>\n",
       "      <td>25M</td>\n",
       "      <td>50,000,000+</td>\n",
       "      <td>Free</td>\n",
       "      <td>0</td>\n",
       "      <td>Teen</td>\n",
       "      <td>Art &amp; Design</td>\n",
       "      <td>June 8, 2018</td>\n",
       "      <td>Varies with device</td>\n",
       "      <td>4.2 and up</td>\n",
       "    </tr>\n",
       "    <tr>\n",
       "      <th>4</th>\n",
       "      <td>Pixel Draw - Number Art Coloring Book</td>\n",
       "      <td>ART_AND_DESIGN</td>\n",
       "      <td>4.3</td>\n",
       "      <td>967</td>\n",
       "      <td>2.8M</td>\n",
       "      <td>100,000+</td>\n",
       "      <td>Free</td>\n",
       "      <td>0</td>\n",
       "      <td>Everyone</td>\n",
       "      <td>Art &amp; Design;Creativity</td>\n",
       "      <td>June 20, 2018</td>\n",
       "      <td>1.1</td>\n",
       "      <td>4.4 and up</td>\n",
       "    </tr>\n",
       "  </tbody>\n",
       "</table>\n",
       "</div>"
      ],
      "text/plain": [
       "                                                 App        Category  Rating  \\\n",
       "0     Photo Editor & Candy Camera & Grid & ScrapBook  ART_AND_DESIGN     4.1   \n",
       "1                                Coloring book moana  ART_AND_DESIGN     3.9   \n",
       "2  U Launcher Lite – FREE Live Cool Themes, Hide ...  ART_AND_DESIGN     4.7   \n",
       "3                              Sketch - Draw & Paint  ART_AND_DESIGN     4.5   \n",
       "4              Pixel Draw - Number Art Coloring Book  ART_AND_DESIGN     4.3   \n",
       "\n",
       "  Reviews  Size     Installs  Type Price Content Rating  \\\n",
       "0     159   19M      10,000+  Free     0       Everyone   \n",
       "1     967   14M     500,000+  Free     0       Everyone   \n",
       "2   87510  8.7M   5,000,000+  Free     0       Everyone   \n",
       "3  215644   25M  50,000,000+  Free     0           Teen   \n",
       "4     967  2.8M     100,000+  Free     0       Everyone   \n",
       "\n",
       "                      Genres      Last Updated         Current Ver  \\\n",
       "0               Art & Design   January 7, 2018               1.0.0   \n",
       "1  Art & Design;Pretend Play  January 15, 2018               2.0.0   \n",
       "2               Art & Design    August 1, 2018               1.2.4   \n",
       "3               Art & Design      June 8, 2018  Varies with device   \n",
       "4    Art & Design;Creativity     June 20, 2018                 1.1   \n",
       "\n",
       "    Android Ver  \n",
       "0  4.0.3 and up  \n",
       "1  4.0.3 and up  \n",
       "2  4.0.3 and up  \n",
       "3    4.2 and up  \n",
       "4    4.4 and up  "
      ]
     },
     "execution_count": 24,
     "metadata": {},
     "output_type": "execute_result"
    }
   ],
   "source": [
    "inp0_Null_dropped.head()"
   ]
  },
  {
   "cell_type": "code",
   "execution_count": 25,
   "id": "d893055c-da0a-4e9f-ad38-6b3a038536ac",
   "metadata": {},
   "outputs": [
    {
     "name": "stdout",
     "output_type": "stream",
     "text": [
      "<class 'pandas.core.frame.DataFrame'>\n",
      "Index: 9360 entries, 0 to 10840\n",
      "Data columns (total 13 columns):\n",
      " #   Column          Non-Null Count  Dtype  \n",
      "---  ------          --------------  -----  \n",
      " 0   App             9360 non-null   object \n",
      " 1   Category        9360 non-null   object \n",
      " 2   Rating          9360 non-null   float64\n",
      " 3   Reviews         9360 non-null   object \n",
      " 4   Size            9360 non-null   object \n",
      " 5   Installs        9360 non-null   object \n",
      " 6   Type            9360 non-null   object \n",
      " 7   Price           9360 non-null   object \n",
      " 8   Content Rating  9360 non-null   object \n",
      " 9   Genres          9360 non-null   object \n",
      " 10  Last Updated    9360 non-null   object \n",
      " 11  Current Ver     9360 non-null   object \n",
      " 12  Android Ver     9360 non-null   object \n",
      "dtypes: float64(1), object(12)\n",
      "memory usage: 1023.8+ KB\n"
     ]
    }
   ],
   "source": [
    "inp0_Null_dropped.info()"
   ]
  },
  {
   "cell_type": "markdown",
   "id": "e8985ac5-9bbe-4a3c-803c-55c2ecf9bf93",
   "metadata": {},
   "source": [
    "## 4. Variables seem to have incorrect type and inconsistent formatting. We need to fix them:\n",
    "\n",
    "\n",
    "#### 1. Size column has sizes in Kb as well as Mb. To analyze, we’ll need to convert these to numeric. \n",
    "###### a. Extract the numeric value from the column \n",
    "###### b. Multiply the value by 1,000, if size is mentioned in Mb\n",
    "\n",
    "\n",
    "#### 2. Reviews is a numeric field that is loaded as a string field. Convert it to numeric (int/float).\n",
    "\n",
    "\n",
    "#### 3. Installs field is currently stored as string and has values like 1,000,000+. \n",
    "###### a. Treat 1,000,000+ as 1,000,000 \n",
    "###### b. remove ‘+’, ‘,’ from the field, convert it to integer\n",
    "\n",
    "\n",
    "#### 4. Price field is a string and has Dollar symbol.  Remove \"$\" sign, and convert it to numeric."
   ]
  },
  {
   "cell_type": "code",
   "execution_count": 27,
   "id": "0facc39c-f818-4a27-9724-36b4062faa3f",
   "metadata": {},
   "outputs": [],
   "source": [
    "# write a function 'change_size', \n",
    "# if there is M which is size in MB, delete the last element, mutiply it with 1000 and convert it to float \n",
    "# if there is k which is size in kB, delete the last element and convert it to float\n",
    "# otherwise return None"
   ]
  },
  {
   "cell_type": "code",
   "execution_count": 28,
   "id": "2bf42017-f693-43ae-b9f4-d749603b04c8",
   "metadata": {},
   "outputs": [
    {
     "name": "stderr",
     "output_type": "stream",
     "text": [
      "C:\\Users\\PRERNA\\AppData\\Local\\Temp\\ipykernel_20192\\1605607338.py:13: SettingWithCopyWarning: \n",
      "A value is trying to be set on a copy of a slice from a DataFrame.\n",
      "Try using .loc[row_indexer,col_indexer] = value instead\n",
      "\n",
      "See the caveats in the documentation: https://pandas.pydata.org/pandas-docs/stable/user_guide/indexing.html#returning-a-view-versus-a-copy\n",
      "  inp0_Null_dropped[\"Size\"]= inp0_Null_dropped[\"Size\"].map(change_size)\n"
     ]
    }
   ],
   "source": [
    "def change_size(size):\n",
    "    if 'M' in size:\n",
    "        x=size[:1]\n",
    "        x=float(x)*1000\n",
    "        return(x)\n",
    "    elif 'k' in size:\n",
    "        x=size[:1]\n",
    "        x=float(x)\n",
    "        return (x)\n",
    "    else:\n",
    "        return None\n",
    "\n",
    "inp0_Null_dropped[\"Size\"]= inp0_Null_dropped[\"Size\"].map(change_size)"
   ]
  },
  {
   "cell_type": "markdown",
   "id": "5cdfa348-ab4f-4120-bde4-5a100bd4dcec",
   "metadata": {},
   "source": [
    "Once we have defined the function and applied to our dataset \"Google PlayStore\", size will get converted to KB with no symbol.\n",
    "\n",
    "Howwever if we check in some places it was mentioned that the size of the appication varies device to device which can not be converted to float hence we will get Null values at those place. Hence it will be required to fill those place. "
   ]
  },
  {
   "cell_type": "code",
   "execution_count": 30,
   "id": "d5023d37-968b-4766-88c2-b1078bacc1ae",
   "metadata": {},
   "outputs": [
    {
     "data": {
      "text/plain": [
       "count    7723.000000\n",
       "mean     3527.798006\n",
       "std      2465.154763\n",
       "min         1.000000\n",
       "25%      1000.000000\n",
       "50%      3000.000000\n",
       "75%      5000.000000\n",
       "max      9000.000000\n",
       "Name: Size, dtype: float64"
      ]
     },
     "execution_count": 30,
     "metadata": {},
     "output_type": "execute_result"
    }
   ],
   "source": [
    "inp0_Null_dropped.Size.describe()"
   ]
  },
  {
   "cell_type": "markdown",
   "id": "00442e33-3262-458a-8ab1-a63209fa7b2a",
   "metadata": {},
   "source": [
    "#### Check the total count for null values in the size coulmn "
   ]
  },
  {
   "cell_type": "code",
   "execution_count": 32,
   "id": "86775069-2d07-43cf-8128-674e4903c58e",
   "metadata": {},
   "outputs": [
    {
     "data": {
      "text/plain": [
       "1637"
      ]
     },
     "execution_count": 32,
     "metadata": {},
     "output_type": "execute_result"
    }
   ],
   "source": [
    "inp0_Null_dropped[\"Size\"].isnull().sum()"
   ]
  },
  {
   "cell_type": "code",
   "execution_count": 33,
   "id": "b816a976-b499-4cbe-994c-e6ca73753500",
   "metadata": {},
   "outputs": [
    {
     "name": "stderr",
     "output_type": "stream",
     "text": [
      "C:\\Users\\PRERNA\\AppData\\Local\\Temp\\ipykernel_20192\\570805697.py:1: SettingWithCopyWarning: \n",
      "A value is trying to be set on a copy of a slice from a DataFrame\n",
      "\n",
      "See the caveats in the documentation: https://pandas.pydata.org/pandas-docs/stable/user_guide/indexing.html#returning-a-view-versus-a-copy\n",
      "  inp0_Null_dropped.Size.fillna(method = 'ffill', inplace = True)\n"
     ]
    }
   ],
   "source": [
    "inp0_Null_dropped.Size.fillna(method = 'ffill', inplace = True)"
   ]
  },
  {
   "cell_type": "code",
   "execution_count": 34,
   "id": "98a33939-0f59-4075-a785-5d31ff752fc8",
   "metadata": {},
   "outputs": [
    {
     "data": {
      "text/plain": [
       "0"
      ]
     },
     "execution_count": 34,
     "metadata": {},
     "output_type": "execute_result"
    }
   ],
   "source": [
    "inp0_Null_dropped[\"Size\"].isnull().sum()"
   ]
  },
  {
   "cell_type": "code",
   "execution_count": 35,
   "id": "0944bbbc-c5d2-4819-81ab-0a0ed4940b83",
   "metadata": {},
   "outputs": [
    {
     "data": {
      "text/plain": [
       "count    9360.000000\n",
       "mean     3518.941239\n",
       "std      2460.319120\n",
       "min         1.000000\n",
       "25%      1000.000000\n",
       "50%      3000.000000\n",
       "75%      5000.000000\n",
       "max      9000.000000\n",
       "Name: Size, dtype: float64"
      ]
     },
     "execution_count": 35,
     "metadata": {},
     "output_type": "execute_result"
    }
   ],
   "source": [
    "inp0_Null_dropped.Size.describe()"
   ]
  },
  {
   "cell_type": "markdown",
   "id": "2a85b666-6cef-447b-a0e4-bbe9b3531da9",
   "metadata": {},
   "source": [
    "### 4.2 Converting reviews to numeric\n",
    "#### Reviews is a numeric field that is loaded as a string field. We need to Convert it to numeric (int/float).\n",
    "\n"
   ]
  },
  {
   "cell_type": "code",
   "execution_count": 37,
   "id": "03486275-95f5-4b6b-9393-5f649ebca198",
   "metadata": {},
   "outputs": [
    {
     "data": {
      "text/plain": [
       "0       159\n",
       "1       967\n",
       "2     87510\n",
       "3    215644\n",
       "4       967\n",
       "Name: Reviews, dtype: object"
      ]
     },
     "execution_count": 37,
     "metadata": {},
     "output_type": "execute_result"
    }
   ],
   "source": [
    "inp0_Null_dropped.Reviews.head()"
   ]
  },
  {
   "cell_type": "code",
   "execution_count": 38,
   "id": "abafa0c2-488f-4d5a-bfa2-ca0f189c375c",
   "metadata": {},
   "outputs": [
    {
     "name": "stderr",
     "output_type": "stream",
     "text": [
      "C:\\Users\\PRERNA\\AppData\\Local\\Temp\\ipykernel_20192\\3402165802.py:1: SettingWithCopyWarning: \n",
      "A value is trying to be set on a copy of a slice from a DataFrame.\n",
      "Try using .loc[row_indexer,col_indexer] = value instead\n",
      "\n",
      "See the caveats in the documentation: https://pandas.pydata.org/pandas-docs/stable/user_guide/indexing.html#returning-a-view-versus-a-copy\n",
      "  inp0_Null_dropped['Reviews'] = inp0_Null_dropped['Reviews'].astype(float)\n"
     ]
    }
   ],
   "source": [
    "inp0_Null_dropped['Reviews'] = inp0_Null_dropped['Reviews'].astype(float)"
   ]
  },
  {
   "cell_type": "code",
   "execution_count": 39,
   "id": "4d34d190-8c9a-4c3e-96f1-d99504a1ac26",
   "metadata": {},
   "outputs": [
    {
     "name": "stdout",
     "output_type": "stream",
     "text": [
      "<class 'pandas.core.series.Series'>\n",
      "Index: 9360 entries, 0 to 10840\n",
      "Series name: Reviews\n",
      "Non-Null Count  Dtype  \n",
      "--------------  -----  \n",
      "9360 non-null   float64\n",
      "dtypes: float64(1)\n",
      "memory usage: 146.2 KB\n"
     ]
    }
   ],
   "source": [
    "inp0_Null_dropped.Reviews.info()"
   ]
  },
  {
   "cell_type": "markdown",
   "id": "ff96beff-30a9-4907-9128-db75c6a6facd",
   "metadata": {},
   "source": [
    "4.3 Now, handling the installs column\n",
    "Installs field is currently stored as string and has values like 1,000,000+.\n",
    "\n",
    "a. Treat 1,000,000+ as 1,000,000 b. remove ‘+’, ‘,’ from the field, convert it to integer"
   ]
  },
  {
   "cell_type": "code",
   "execution_count": 41,
   "id": "011001e5-ba15-49e3-a3cc-84e1196f3768",
   "metadata": {},
   "outputs": [],
   "source": [
    "def clean_installs(installs):\n",
    "    \n",
    "    if isinstance(installs, str):\n",
    "        # Remove + sign and commas\n",
    "        installs = installs.replace('+', '').replace(',', '').strip()\n",
    "        try:\n",
    "            # Convert to float\n",
    "            return float(installs)\n",
    "        except ValueError:\n",
    "            return None  # Return None if conversion fails\n",
    "    elif isinstance(installs, (int, float)):\n",
    "        # Return the price as is if it's already numeric\n",
    "        return float(installs)\n",
    "    else:\n",
    "        return None  # Return None for other types"
   ]
  },
  {
   "cell_type": "code",
   "execution_count": 42,
   "id": "d8e9d1e9-281b-4791-8071-89cfc3b22207",
   "metadata": {},
   "outputs": [
    {
     "name": "stderr",
     "output_type": "stream",
     "text": [
      "C:\\Users\\PRERNA\\AppData\\Local\\Temp\\ipykernel_20192\\43025988.py:1: SettingWithCopyWarning: \n",
      "A value is trying to be set on a copy of a slice from a DataFrame.\n",
      "Try using .loc[row_indexer,col_indexer] = value instead\n",
      "\n",
      "See the caveats in the documentation: https://pandas.pydata.org/pandas-docs/stable/user_guide/indexing.html#returning-a-view-versus-a-copy\n",
      "  inp0_Null_dropped['Installs'] = inp0_Null_dropped['Installs'].map(clean_installs)\n"
     ]
    }
   ],
   "source": [
    "inp0_Null_dropped['Installs'] = inp0_Null_dropped['Installs'].map(clean_installs)"
   ]
  },
  {
   "cell_type": "code",
   "execution_count": 43,
   "id": "59085410-2f77-4597-9f3a-bfbbb6bb580c",
   "metadata": {},
   "outputs": [
    {
     "name": "stdout",
     "output_type": "stream",
     "text": [
      "<class 'pandas.core.series.Series'>\n",
      "Index: 9360 entries, 0 to 10840\n",
      "Series name: Installs\n",
      "Non-Null Count  Dtype  \n",
      "--------------  -----  \n",
      "9360 non-null   float64\n",
      "dtypes: float64(1)\n",
      "memory usage: 146.2 KB\n"
     ]
    }
   ],
   "source": [
    "inp0_Null_dropped.Installs.info()"
   ]
  },
  {
   "cell_type": "code",
   "execution_count": 44,
   "id": "d9a2ee05-ae86-49fd-8481-9994fa732fc9",
   "metadata": {},
   "outputs": [
    {
     "data": {
      "text/plain": [
       "0"
      ]
     },
     "execution_count": 44,
     "metadata": {},
     "output_type": "execute_result"
    }
   ],
   "source": [
    "inp0_Null_dropped.Installs.isna().sum() # just checking if we have any Null values in the Column Installs"
   ]
  },
  {
   "cell_type": "markdown",
   "id": "cacee1d0-1812-497f-9840-620783e99a57",
   "metadata": {},
   "source": [
    "### 4.4 Price column needs to be cleaned\n",
    "\n"
   ]
  },
  {
   "cell_type": "markdown",
   "id": "828ae222-734e-487c-bdf2-fa595fb22803",
   "metadata": {},
   "source": [
    "### Price field is a string and has dollar symbol. Remove dollar  sign, and convert it to numeric."
   ]
  },
  {
   "cell_type": "code",
   "execution_count": 47,
   "id": "9fbb1bf1-a86b-4ace-82c8-b08a03c2aa61",
   "metadata": {
    "scrolled": true
   },
   "outputs": [
    {
     "data": {
      "text/plain": [
       "Price\n",
       "0        8715\n",
       "$2.99     114\n",
       "$0.99     106\n",
       "$4.99      70\n",
       "$1.99      59\n",
       "Name: count, dtype: int64"
      ]
     },
     "execution_count": 47,
     "metadata": {},
     "output_type": "execute_result"
    }
   ],
   "source": [
    "inp0_Null_dropped.Price.value_counts()[:5]"
   ]
  },
  {
   "cell_type": "markdown",
   "id": "6d495d28-cd1a-42b7-8661-4159ed152da1",
   "metadata": {},
   "source": [
    "Price field is a string and has Dollar symbol. Remove \"$\" sign, and convert it to numeric"
   ]
  },
  {
   "cell_type": "code",
   "execution_count": 49,
   "id": "a7b04a60-716d-48df-a936-703cf0841df3",
   "metadata": {},
   "outputs": [],
   "source": [
    "def clean_price(price):\n",
    "    if '$' in price:\n",
    "        x=price[1:]\n",
    "        x=float(x)\n",
    "        return(x)\n",
    "    elif '0' in price:\n",
    "        x=price[0:]\n",
    "        x=float(x)\n",
    "        return (x)\n",
    "    else:\n",
    "        return None\n",
    "   "
   ]
  },
  {
   "cell_type": "code",
   "execution_count": 50,
   "id": "6d733c12-40cf-4c29-9db1-e0ccc0c36029",
   "metadata": {},
   "outputs": [
    {
     "name": "stderr",
     "output_type": "stream",
     "text": [
      "C:\\Users\\PRERNA\\AppData\\Local\\Temp\\ipykernel_20192\\1836118890.py:1: SettingWithCopyWarning: \n",
      "A value is trying to be set on a copy of a slice from a DataFrame.\n",
      "Try using .loc[row_indexer,col_indexer] = value instead\n",
      "\n",
      "See the caveats in the documentation: https://pandas.pydata.org/pandas-docs/stable/user_guide/indexing.html#returning-a-view-versus-a-copy\n",
      "  inp0_Null_dropped['Price'] = inp0_Null_dropped.Price.map(clean_price)\n"
     ]
    }
   ],
   "source": [
    "inp0_Null_dropped['Price'] = inp0_Null_dropped.Price.map(clean_price)"
   ]
  },
  {
   "cell_type": "code",
   "execution_count": 51,
   "id": "3231279d-9cb6-4356-a091-c3912f28aa85",
   "metadata": {},
   "outputs": [
    {
     "name": "stdout",
     "output_type": "stream",
     "text": [
      "<class 'pandas.core.series.Series'>\n",
      "Index: 9360 entries, 0 to 10840\n",
      "Series name: Price\n",
      "Non-Null Count  Dtype  \n",
      "--------------  -----  \n",
      "9360 non-null   float64\n",
      "dtypes: float64(1)\n",
      "memory usage: 146.2 KB\n"
     ]
    }
   ],
   "source": [
    "inp0_Null_dropped.Price.info()"
   ]
  },
  {
   "cell_type": "code",
   "execution_count": 52,
   "id": "8318290c-3816-48ac-a092-2535955509c4",
   "metadata": {},
   "outputs": [
    {
     "name": "stdout",
     "output_type": "stream",
     "text": [
      "<class 'pandas.core.series.Series'>\n",
      "Index: 9360 entries, 0 to 10840\n",
      "Series name: Price\n",
      "Non-Null Count  Dtype  \n",
      "--------------  -----  \n",
      "9360 non-null   float64\n",
      "dtypes: float64(1)\n",
      "memory usage: 146.2 KB\n"
     ]
    }
   ],
   "source": [
    "inp0_Null_dropped.Price.info()"
   ]
  },
  {
   "cell_type": "code",
   "execution_count": 53,
   "id": "32b62b52-30cc-4fae-b3b6-1b8ad5023b00",
   "metadata": {},
   "outputs": [
    {
     "data": {
      "text/plain": [
       "0"
      ]
     },
     "execution_count": 53,
     "metadata": {},
     "output_type": "execute_result"
    }
   ],
   "source": [
    "inp0_Null_dropped.Price.isnull().sum()"
   ]
  },
  {
   "cell_type": "markdown",
   "id": "e26e78c7-1fd0-44a2-a8c4-18d6c77f44ec",
   "metadata": {},
   "source": [
    "## 5. Some sanity checks\n",
    "- 1. Average rating should be between 1 and 5 as only these values are allowed on the play store. Drop the rows that have a value outside this range.\n",
    "- 2. Reviews should not be more than installs as only those who installed can review the app. If there are any such records, drop them.\n",
    "- 3. For free apps (type = “Free”), the price should not be >0. Drop any such rows."
   ]
  },
  {
   "cell_type": "markdown",
   "id": "791f5c62-6911-4fc7-b8ff-c68edb615b85",
   "metadata": {},
   "source": [
    "#### 5.1   Average rating should be between 1 and 5 as only these values are allowed on the play store. Drop the rows that have a value outside this range."
   ]
  },
  {
   "cell_type": "code",
   "execution_count": 56,
   "id": "088e4a18-c8db-407f-9ec6-d4755aae05f1",
   "metadata": {},
   "outputs": [],
   "source": [
    "df = inp0_Null_dropped # for the easy use, just changed the dataframe from inp0_Null_dropped into df"
   ]
  },
  {
   "cell_type": "code",
   "execution_count": 57,
   "id": "469d6fde-75c3-4241-b671-94b02392aebe",
   "metadata": {},
   "outputs": [
    {
     "data": {
      "text/plain": [
       "count    9360.000000\n",
       "mean        4.191838\n",
       "std         0.515263\n",
       "min         1.000000\n",
       "25%         4.000000\n",
       "50%         4.300000\n",
       "75%         4.500000\n",
       "max         5.000000\n",
       "Name: Rating, dtype: float64"
      ]
     },
     "execution_count": 57,
     "metadata": {},
     "output_type": "execute_result"
    }
   ],
   "source": [
    "df.Rating.describe()"
   ]
  },
  {
   "cell_type": "markdown",
   "id": "544bce48-807f-438d-8f46-a1591a3fc1eb",
   "metadata": {},
   "source": [
    "#### As the minimum value of column Ratings is 1 and maximum value is 5, hence no records needs to be deleted"
   ]
  },
  {
   "cell_type": "markdown",
   "id": "ba58779b-e1e1-47d9-87be-a53aeffb1e9a",
   "metadata": {},
   "source": [
    "### 5.2. Reviews should not be more than installs as only those who installed can review the app."
   ]
  },
  {
   "cell_type": "markdown",
   "id": "fa9148b3-ba95-48c6-bda8-b018f5bf6e25",
   "metadata": {},
   "source": [
    "##### Checking if reviews are more than installs. Counting total rows like this."
   ]
  },
  {
   "cell_type": "code",
   "execution_count": 61,
   "id": "d7ff368c-64f5-46c7-9e59-a2dfcaabd647",
   "metadata": {},
   "outputs": [
    {
     "data": {
      "text/plain": [
       "7"
      ]
     },
     "execution_count": 61,
     "metadata": {},
     "output_type": "execute_result"
    }
   ],
   "source": [
    "df[df.Reviews>df.Installs].shape[0]  \n"
   ]
  },
  {
   "cell_type": "markdown",
   "id": "e20d0286-1a56-4f81-b110-c1720478133b",
   "metadata": {},
   "source": [
    "#####  In the above code **df[df.Reviews>df.Installs]**--> Checks the rows if any, and **shape[0]** provides the count, as its a tupple we need to give the index number as well. "
   ]
  },
  {
   "cell_type": "code",
   "execution_count": 63,
   "id": "43a7e89e-f8a6-46b7-beac-3e9304a3c802",
   "metadata": {
    "scrolled": true
   },
   "outputs": [
    {
     "data": {
      "text/html": [
       "<div>\n",
       "<style scoped>\n",
       "    .dataframe tbody tr th:only-of-type {\n",
       "        vertical-align: middle;\n",
       "    }\n",
       "\n",
       "    .dataframe tbody tr th {\n",
       "        vertical-align: top;\n",
       "    }\n",
       "\n",
       "    .dataframe thead th {\n",
       "        text-align: right;\n",
       "    }\n",
       "</style>\n",
       "<table border=\"1\" class=\"dataframe\">\n",
       "  <thead>\n",
       "    <tr style=\"text-align: right;\">\n",
       "      <th></th>\n",
       "      <th>App</th>\n",
       "      <th>Category</th>\n",
       "      <th>Rating</th>\n",
       "      <th>Reviews</th>\n",
       "      <th>Size</th>\n",
       "      <th>Installs</th>\n",
       "      <th>Type</th>\n",
       "      <th>Price</th>\n",
       "      <th>Content Rating</th>\n",
       "      <th>Genres</th>\n",
       "      <th>Last Updated</th>\n",
       "      <th>Current Ver</th>\n",
       "      <th>Android Ver</th>\n",
       "    </tr>\n",
       "  </thead>\n",
       "  <tbody>\n",
       "    <tr>\n",
       "      <th>2454</th>\n",
       "      <td>KBA-EZ Health Guide</td>\n",
       "      <td>MEDICAL</td>\n",
       "      <td>5.0</td>\n",
       "      <td>4.0</td>\n",
       "      <td>2000.0</td>\n",
       "      <td>1.0</td>\n",
       "      <td>Free</td>\n",
       "      <td>0.00</td>\n",
       "      <td>Everyone</td>\n",
       "      <td>Medical</td>\n",
       "      <td>August 2, 2018</td>\n",
       "      <td>1.0.72</td>\n",
       "      <td>4.0.3 and up</td>\n",
       "    </tr>\n",
       "    <tr>\n",
       "      <th>4663</th>\n",
       "      <td>Alarmy (Sleep If U Can) - Pro</td>\n",
       "      <td>LIFESTYLE</td>\n",
       "      <td>4.8</td>\n",
       "      <td>10249.0</td>\n",
       "      <td>3000.0</td>\n",
       "      <td>10000.0</td>\n",
       "      <td>Paid</td>\n",
       "      <td>2.49</td>\n",
       "      <td>Everyone</td>\n",
       "      <td>Lifestyle</td>\n",
       "      <td>July 30, 2018</td>\n",
       "      <td>Varies with device</td>\n",
       "      <td>Varies with device</td>\n",
       "    </tr>\n",
       "    <tr>\n",
       "      <th>5917</th>\n",
       "      <td>Ra Ga Ba</td>\n",
       "      <td>GAME</td>\n",
       "      <td>5.0</td>\n",
       "      <td>2.0</td>\n",
       "      <td>2000.0</td>\n",
       "      <td>1.0</td>\n",
       "      <td>Paid</td>\n",
       "      <td>1.49</td>\n",
       "      <td>Everyone</td>\n",
       "      <td>Arcade</td>\n",
       "      <td>February 8, 2017</td>\n",
       "      <td>1.0.4</td>\n",
       "      <td>2.3 and up</td>\n",
       "    </tr>\n",
       "    <tr>\n",
       "      <th>6700</th>\n",
       "      <td>Brick Breaker BR</td>\n",
       "      <td>GAME</td>\n",
       "      <td>5.0</td>\n",
       "      <td>7.0</td>\n",
       "      <td>1000.0</td>\n",
       "      <td>5.0</td>\n",
       "      <td>Free</td>\n",
       "      <td>0.00</td>\n",
       "      <td>Everyone</td>\n",
       "      <td>Arcade</td>\n",
       "      <td>July 23, 2018</td>\n",
       "      <td>1</td>\n",
       "      <td>4.1 and up</td>\n",
       "    </tr>\n",
       "    <tr>\n",
       "      <th>7402</th>\n",
       "      <td>Trovami se ci riesci</td>\n",
       "      <td>GAME</td>\n",
       "      <td>5.0</td>\n",
       "      <td>11.0</td>\n",
       "      <td>6000.0</td>\n",
       "      <td>10.0</td>\n",
       "      <td>Free</td>\n",
       "      <td>0.00</td>\n",
       "      <td>Everyone</td>\n",
       "      <td>Arcade</td>\n",
       "      <td>March 11, 2017</td>\n",
       "      <td>0.1</td>\n",
       "      <td>2.3 and up</td>\n",
       "    </tr>\n",
       "    <tr>\n",
       "      <th>8591</th>\n",
       "      <td>DN Blog</td>\n",
       "      <td>SOCIAL</td>\n",
       "      <td>5.0</td>\n",
       "      <td>20.0</td>\n",
       "      <td>4000.0</td>\n",
       "      <td>10.0</td>\n",
       "      <td>Free</td>\n",
       "      <td>0.00</td>\n",
       "      <td>Teen</td>\n",
       "      <td>Social</td>\n",
       "      <td>July 23, 2018</td>\n",
       "      <td>1</td>\n",
       "      <td>4.0 and up</td>\n",
       "    </tr>\n",
       "    <tr>\n",
       "      <th>10697</th>\n",
       "      <td>Mu.F.O.</td>\n",
       "      <td>GAME</td>\n",
       "      <td>5.0</td>\n",
       "      <td>2.0</td>\n",
       "      <td>1000.0</td>\n",
       "      <td>1.0</td>\n",
       "      <td>Paid</td>\n",
       "      <td>0.99</td>\n",
       "      <td>Everyone</td>\n",
       "      <td>Arcade</td>\n",
       "      <td>March 3, 2017</td>\n",
       "      <td>1</td>\n",
       "      <td>2.3 and up</td>\n",
       "    </tr>\n",
       "  </tbody>\n",
       "</table>\n",
       "</div>"
      ],
      "text/plain": [
       "                                 App   Category  Rating  Reviews    Size  \\\n",
       "2454             KBA-EZ Health Guide    MEDICAL     5.0      4.0  2000.0   \n",
       "4663   Alarmy (Sleep If U Can) - Pro  LIFESTYLE     4.8  10249.0  3000.0   \n",
       "5917                        Ra Ga Ba       GAME     5.0      2.0  2000.0   \n",
       "6700                Brick Breaker BR       GAME     5.0      7.0  1000.0   \n",
       "7402            Trovami se ci riesci       GAME     5.0     11.0  6000.0   \n",
       "8591                         DN Blog     SOCIAL     5.0     20.0  4000.0   \n",
       "10697                        Mu.F.O.       GAME     5.0      2.0  1000.0   \n",
       "\n",
       "       Installs  Type  Price Content Rating     Genres      Last Updated  \\\n",
       "2454        1.0  Free   0.00       Everyone    Medical    August 2, 2018   \n",
       "4663    10000.0  Paid   2.49       Everyone  Lifestyle     July 30, 2018   \n",
       "5917        1.0  Paid   1.49       Everyone     Arcade  February 8, 2017   \n",
       "6700        5.0  Free   0.00       Everyone     Arcade     July 23, 2018   \n",
       "7402       10.0  Free   0.00       Everyone     Arcade    March 11, 2017   \n",
       "8591       10.0  Free   0.00           Teen     Social     July 23, 2018   \n",
       "10697       1.0  Paid   0.99       Everyone     Arcade     March 3, 2017   \n",
       "\n",
       "              Current Ver         Android Ver  \n",
       "2454               1.0.72        4.0.3 and up  \n",
       "4663   Varies with device  Varies with device  \n",
       "5917                1.0.4          2.3 and up  \n",
       "6700                    1          4.1 and up  \n",
       "7402                  0.1          2.3 and up  \n",
       "8591                    1          4.0 and up  \n",
       "10697                   1          2.3 and up  "
      ]
     },
     "execution_count": 63,
     "metadata": {},
     "output_type": "execute_result"
    }
   ],
   "source": [
    "df[df.Reviews>df.Installs]"
   ]
  },
  {
   "cell_type": "markdown",
   "id": "b04906a5-9557-4697-96d3-7fba6f91150c",
   "metadata": {},
   "source": [
    "#### As there are 7 rows which do not satifies our condition hence needs to drop them. "
   ]
  },
  {
   "cell_type": "code",
   "execution_count": 65,
   "id": "2eeb4484-3eb1-4704-be49-9c42acab92c9",
   "metadata": {},
   "outputs": [],
   "source": [
    "df = df[df.Reviews<=df.Installs].copy()"
   ]
  },
  {
   "cell_type": "markdown",
   "id": "e334620d-2c32-4de7-9144-b7f654020c5e",
   "metadata": {},
   "source": [
    "#### Here we have retain that part of data where revives are less than installs"
   ]
  },
  {
   "cell_type": "code",
   "execution_count": 67,
   "id": "74a98eb4-fb84-4e1e-8bc3-563be478d5a8",
   "metadata": {},
   "outputs": [
    {
     "data": {
      "text/plain": [
       "(9353, 13)"
      ]
     },
     "execution_count": 67,
     "metadata": {},
     "output_type": "execute_result"
    }
   ],
   "source": [
    "df.shape"
   ]
  },
  {
   "cell_type": "markdown",
   "id": "969d2bab-d68e-415f-99d4-1a520af77e64",
   "metadata": {},
   "source": [
    "## 5.3 For free apps (type = “Free”), the price should not be > 0. Drop any such rows."
   ]
  },
  {
   "cell_type": "code",
   "execution_count": 69,
   "id": "74767f8e-9a3a-4d3b-bb1c-af87712188c9",
   "metadata": {},
   "outputs": [
    {
     "data": {
      "text/plain": [
       "0"
      ]
     },
     "execution_count": 69,
     "metadata": {},
     "output_type": "execute_result"
    }
   ],
   "source": [
    "len(df[(df.Type == \"Free\") & (df.Price>0)])"
   ]
  },
  {
   "cell_type": "markdown",
   "id": "7987f4e7-fbe8-4bc6-82c7-a0fb256100ac",
   "metadata": {},
   "source": [
    "##### We do not have any rows having free apps with more than 0 price with below code \n",
    "--- **or we can check the same with below code as well**"
   ]
  },
  {
   "cell_type": "code",
   "execution_count": 71,
   "id": "668f6aa6-07d4-4f05-9147-1177e89d8dab",
   "metadata": {},
   "outputs": [
    {
     "data": {
      "text/plain": [
       "0"
      ]
     },
     "execution_count": 71,
     "metadata": {},
     "output_type": "execute_result"
    }
   ],
   "source": [
    "df[(df.Type == \"Free\") & (df.Price>0)].shape[0]  "
   ]
  },
  {
   "cell_type": "markdown",
   "id": "584328cb-2380-408e-aa23-46aa99f07c32",
   "metadata": {},
   "source": [
    "##  Performing univariate analysis:\n",
    "- Boxplot for Price\n",
    "    -- Are there any outliers? Think about the price of usual apps on Play Store\n",
    "- Boxplot for Reviews\n",
    "  -- Are there any apps with very high number of reviews? Do the values seem right\n",
    "- Histogram for Rating\n",
    "  -- How are the ratings distributed? Is it more toward higher ratings?\n",
    "- Histogram for Size"
   ]
  },
  {
   "cell_type": "markdown",
   "id": "3a4b9ca6-6d9c-40d5-978e-7e6b3f35201f",
   "metadata": {},
   "source": [
    "### Drafting Boxplot for Price"
   ]
  },
  {
   "cell_type": "code",
   "execution_count": 74,
   "id": "6a4e3582-3eb3-4110-938b-3a963369c302",
   "metadata": {},
   "outputs": [
    {
     "data": {
      "image/png": "[encoded data removed]",
      "text/plain": [
       "<Figure size 640x480 with 1 Axes>"
      ]
     },
     "metadata": {},
     "output_type": "display_data"
    }
   ],
   "source": [
    "sns.boxplot(x = df.Price).set(title = \"Boxplot for Price\");"
   ]
  },
  {
   "cell_type": "markdown",
   "id": "c03a8db4-02be-48f9-988b-e54da172ef7a",
   "metadata": {},
   "source": [
    "### Drafting Boxplot for Reviews"
   ]
  },
  {
   "cell_type": "code",
   "execution_count": 76,
   "id": "148db617-838c-43d3-881c-99f8a260472b",
   "metadata": {
    "scrolled": true
   },
   "outputs": [
    {
     "data": {
      "image/png": "[encoded data removed]",
      "text/plain": [
       "<Figure size 640x480 with 1 Axes>"
      ]
     },
     "metadata": {},
     "output_type": "display_data"
    }
   ],
   "source": [
    "sns.boxplot(x = df.Reviews).set(title = \"Boxplot for Reviews\");"
   ]
  },
  {
   "cell_type": "markdown",
   "id": "e91c6dbe-01f4-4216-8495-6f2998f07a08",
   "metadata": {},
   "source": [
    "### Drafting Histogram for Rating"
   ]
  },
  {
   "cell_type": "code",
   "execution_count": 78,
   "id": "19d52778-d256-4c36-97ab-430b9fac7c70",
   "metadata": {},
   "outputs": [
    {
     "data": {
      "image/png": "[encoded data removed]",
      "text/plain": [
       "<Figure size 500x500 with 1 Axes>"
      ]
     },
     "metadata": {},
     "output_type": "display_data"
    }
   ],
   "source": [
    "sns.displot(df['Rating'], bins = 10, kde = True). set(title = \"Histogram for Rating\");"
   ]
  },
  {
   "cell_type": "markdown",
   "id": "41c24a6f-7b10-4507-8c34-d56e98385563",
   "metadata": {},
   "source": [
    "### Drafting Histogram for Size:"
   ]
  },
  {
   "cell_type": "code",
   "execution_count": 80,
   "id": "c9f81e7c-bdc5-4ba2-8636-5c1b73f33a7b",
   "metadata": {},
   "outputs": [
    {
     "data": {
      "image/png": "[encoded data removed]",
      "text/plain": [
       "<Figure size 500x500 with 1 Axes>"
      ]
     },
     "metadata": {},
     "output_type": "display_data"
    }
   ],
   "source": [
    "sns.displot(df['Size'], bins = 10, kde = True). set(title = \"Histogram for Size\");"
   ]
  },
  {
   "cell_type": "markdown",
   "id": "06c557af-5033-4afe-890b-5a2454f3e8a6",
   "metadata": {},
   "source": [
    "### 6. Outlier treatment:¶\n",
    "- a) **Price**: From the box plot, it seems like there are some apps with very high price. A price of $200 for an application on the Play Store is very high and suspicious! a. Check out the records with very high price i. Is 200 indeed a high price? b. Drop these as most seem to be junk apps\n",
    "- b) **Reviews**: Very few apps have very high number of reviews. These are all star apps that don’t help with the analysis and, in fact, will skew it. Drop records having more than 2 million reviews\n",
    "- c) **Installs**: There seems to be some outliers in this field too. Apps having very high number of installs should be dropped from the analysis. a. Find out the different percentiles – 10, 25, 50, 70, 90, 95, 99 b. Decide a threshold as cutoff for outlier and drop records having values more than that"
   ]
  },
  {
   "cell_type": "markdown",
   "id": "d92468a3-95e2-425b-932d-24046f1a4f18",
   "metadata": {},
   "source": [
    "#### 6.1.\tPrice: From the box plot, it seems like there are some apps with very high price. A price of $200 for an application on the Play Store is very high and suspicious!\n",
    "    a.\tCheck out the records with very high price\n",
    "        i.\tIs 200 indeed a high price?\n",
    "    b.\tDrop these as most seem to be junk apps"
   ]
  },
  {
   "cell_type": "code",
   "execution_count": 83,
   "id": "be115314-5585-400b-a96c-a24eb2036f02",
   "metadata": {},
   "outputs": [
    {
     "data": {
      "text/html": [
       "<div>\n",
       "<style scoped>\n",
       "    .dataframe tbody tr th:only-of-type {\n",
       "        vertical-align: middle;\n",
       "    }\n",
       "\n",
       "    .dataframe tbody tr th {\n",
       "        vertical-align: top;\n",
       "    }\n",
       "\n",
       "    .dataframe thead th {\n",
       "        text-align: right;\n",
       "    }\n",
       "</style>\n",
       "<table border=\"1\" class=\"dataframe\">\n",
       "  <thead>\n",
       "    <tr style=\"text-align: right;\">\n",
       "      <th></th>\n",
       "      <th>App</th>\n",
       "      <th>Category</th>\n",
       "      <th>Rating</th>\n",
       "      <th>Reviews</th>\n",
       "      <th>Size</th>\n",
       "      <th>Installs</th>\n",
       "      <th>Type</th>\n",
       "      <th>Price</th>\n",
       "      <th>Content Rating</th>\n",
       "      <th>Genres</th>\n",
       "      <th>Last Updated</th>\n",
       "      <th>Current Ver</th>\n",
       "      <th>Android Ver</th>\n",
       "    </tr>\n",
       "  </thead>\n",
       "  <tbody>\n",
       "    <tr>\n",
       "      <th>4197</th>\n",
       "      <td>most expensive app (H)</td>\n",
       "      <td>FAMILY</td>\n",
       "      <td>4.3</td>\n",
       "      <td>6.0</td>\n",
       "      <td>1000.0</td>\n",
       "      <td>100.0</td>\n",
       "      <td>Paid</td>\n",
       "      <td>399.99</td>\n",
       "      <td>Everyone</td>\n",
       "      <td>Entertainment</td>\n",
       "      <td>July 16, 2018</td>\n",
       "      <td>1</td>\n",
       "      <td>7.0 and up</td>\n",
       "    </tr>\n",
       "    <tr>\n",
       "      <th>4362</th>\n",
       "      <td>💎 I'm rich</td>\n",
       "      <td>LIFESTYLE</td>\n",
       "      <td>3.8</td>\n",
       "      <td>718.0</td>\n",
       "      <td>2000.0</td>\n",
       "      <td>10000.0</td>\n",
       "      <td>Paid</td>\n",
       "      <td>399.99</td>\n",
       "      <td>Everyone</td>\n",
       "      <td>Lifestyle</td>\n",
       "      <td>March 11, 2018</td>\n",
       "      <td>1.0.0</td>\n",
       "      <td>4.4 and up</td>\n",
       "    </tr>\n",
       "    <tr>\n",
       "      <th>4367</th>\n",
       "      <td>I'm Rich - Trump Edition</td>\n",
       "      <td>LIFESTYLE</td>\n",
       "      <td>3.6</td>\n",
       "      <td>275.0</td>\n",
       "      <td>7000.0</td>\n",
       "      <td>10000.0</td>\n",
       "      <td>Paid</td>\n",
       "      <td>400.00</td>\n",
       "      <td>Everyone</td>\n",
       "      <td>Lifestyle</td>\n",
       "      <td>May 3, 2018</td>\n",
       "      <td>1.0.1</td>\n",
       "      <td>4.1 and up</td>\n",
       "    </tr>\n",
       "    <tr>\n",
       "      <th>5351</th>\n",
       "      <td>I am rich</td>\n",
       "      <td>LIFESTYLE</td>\n",
       "      <td>3.8</td>\n",
       "      <td>3547.0</td>\n",
       "      <td>1000.0</td>\n",
       "      <td>100000.0</td>\n",
       "      <td>Paid</td>\n",
       "      <td>399.99</td>\n",
       "      <td>Everyone</td>\n",
       "      <td>Lifestyle</td>\n",
       "      <td>January 12, 2018</td>\n",
       "      <td>2</td>\n",
       "      <td>4.0.3 and up</td>\n",
       "    </tr>\n",
       "    <tr>\n",
       "      <th>5354</th>\n",
       "      <td>I am Rich Plus</td>\n",
       "      <td>FAMILY</td>\n",
       "      <td>4.0</td>\n",
       "      <td>856.0</td>\n",
       "      <td>8000.0</td>\n",
       "      <td>10000.0</td>\n",
       "      <td>Paid</td>\n",
       "      <td>399.99</td>\n",
       "      <td>Everyone</td>\n",
       "      <td>Entertainment</td>\n",
       "      <td>May 19, 2018</td>\n",
       "      <td>3</td>\n",
       "      <td>4.4 and up</td>\n",
       "    </tr>\n",
       "    <tr>\n",
       "      <th>5355</th>\n",
       "      <td>I am rich VIP</td>\n",
       "      <td>LIFESTYLE</td>\n",
       "      <td>3.8</td>\n",
       "      <td>411.0</td>\n",
       "      <td>2000.0</td>\n",
       "      <td>10000.0</td>\n",
       "      <td>Paid</td>\n",
       "      <td>299.99</td>\n",
       "      <td>Everyone</td>\n",
       "      <td>Lifestyle</td>\n",
       "      <td>July 21, 2018</td>\n",
       "      <td>1.1.1</td>\n",
       "      <td>4.3 and up</td>\n",
       "    </tr>\n",
       "    <tr>\n",
       "      <th>5356</th>\n",
       "      <td>I Am Rich Premium</td>\n",
       "      <td>FINANCE</td>\n",
       "      <td>4.1</td>\n",
       "      <td>1867.0</td>\n",
       "      <td>4000.0</td>\n",
       "      <td>50000.0</td>\n",
       "      <td>Paid</td>\n",
       "      <td>399.99</td>\n",
       "      <td>Everyone</td>\n",
       "      <td>Finance</td>\n",
       "      <td>November 12, 2017</td>\n",
       "      <td>1.6</td>\n",
       "      <td>4.0 and up</td>\n",
       "    </tr>\n",
       "    <tr>\n",
       "      <th>5357</th>\n",
       "      <td>I am extremely Rich</td>\n",
       "      <td>LIFESTYLE</td>\n",
       "      <td>2.9</td>\n",
       "      <td>41.0</td>\n",
       "      <td>2000.0</td>\n",
       "      <td>1000.0</td>\n",
       "      <td>Paid</td>\n",
       "      <td>379.99</td>\n",
       "      <td>Everyone</td>\n",
       "      <td>Lifestyle</td>\n",
       "      <td>July 1, 2018</td>\n",
       "      <td>1</td>\n",
       "      <td>4.0 and up</td>\n",
       "    </tr>\n",
       "    <tr>\n",
       "      <th>5358</th>\n",
       "      <td>I am Rich!</td>\n",
       "      <td>FINANCE</td>\n",
       "      <td>3.8</td>\n",
       "      <td>93.0</td>\n",
       "      <td>2000.0</td>\n",
       "      <td>1000.0</td>\n",
       "      <td>Paid</td>\n",
       "      <td>399.99</td>\n",
       "      <td>Everyone</td>\n",
       "      <td>Finance</td>\n",
       "      <td>December 11, 2017</td>\n",
       "      <td>1</td>\n",
       "      <td>4.1 and up</td>\n",
       "    </tr>\n",
       "    <tr>\n",
       "      <th>5359</th>\n",
       "      <td>I am rich(premium)</td>\n",
       "      <td>FINANCE</td>\n",
       "      <td>3.5</td>\n",
       "      <td>472.0</td>\n",
       "      <td>9.0</td>\n",
       "      <td>5000.0</td>\n",
       "      <td>Paid</td>\n",
       "      <td>399.99</td>\n",
       "      <td>Everyone</td>\n",
       "      <td>Finance</td>\n",
       "      <td>May 1, 2017</td>\n",
       "      <td>3.4</td>\n",
       "      <td>4.4 and up</td>\n",
       "    </tr>\n",
       "    <tr>\n",
       "      <th>5362</th>\n",
       "      <td>I Am Rich Pro</td>\n",
       "      <td>FAMILY</td>\n",
       "      <td>4.4</td>\n",
       "      <td>201.0</td>\n",
       "      <td>2000.0</td>\n",
       "      <td>5000.0</td>\n",
       "      <td>Paid</td>\n",
       "      <td>399.99</td>\n",
       "      <td>Everyone</td>\n",
       "      <td>Entertainment</td>\n",
       "      <td>May 30, 2017</td>\n",
       "      <td>1.54</td>\n",
       "      <td>1.6 and up</td>\n",
       "    </tr>\n",
       "    <tr>\n",
       "      <th>5364</th>\n",
       "      <td>I am rich (Most expensive app)</td>\n",
       "      <td>FINANCE</td>\n",
       "      <td>4.1</td>\n",
       "      <td>129.0</td>\n",
       "      <td>2000.0</td>\n",
       "      <td>1000.0</td>\n",
       "      <td>Paid</td>\n",
       "      <td>399.99</td>\n",
       "      <td>Teen</td>\n",
       "      <td>Finance</td>\n",
       "      <td>December 6, 2017</td>\n",
       "      <td>2</td>\n",
       "      <td>4.0.3 and up</td>\n",
       "    </tr>\n",
       "    <tr>\n",
       "      <th>5366</th>\n",
       "      <td>I Am Rich</td>\n",
       "      <td>FAMILY</td>\n",
       "      <td>3.6</td>\n",
       "      <td>217.0</td>\n",
       "      <td>4000.0</td>\n",
       "      <td>10000.0</td>\n",
       "      <td>Paid</td>\n",
       "      <td>389.99</td>\n",
       "      <td>Everyone</td>\n",
       "      <td>Entertainment</td>\n",
       "      <td>June 22, 2018</td>\n",
       "      <td>1.5</td>\n",
       "      <td>4.2 and up</td>\n",
       "    </tr>\n",
       "    <tr>\n",
       "      <th>5369</th>\n",
       "      <td>I am Rich</td>\n",
       "      <td>FINANCE</td>\n",
       "      <td>4.3</td>\n",
       "      <td>180.0</td>\n",
       "      <td>3000.0</td>\n",
       "      <td>5000.0</td>\n",
       "      <td>Paid</td>\n",
       "      <td>399.99</td>\n",
       "      <td>Everyone</td>\n",
       "      <td>Finance</td>\n",
       "      <td>March 22, 2018</td>\n",
       "      <td>1</td>\n",
       "      <td>4.2 and up</td>\n",
       "    </tr>\n",
       "    <tr>\n",
       "      <th>5373</th>\n",
       "      <td>I AM RICH PRO PLUS</td>\n",
       "      <td>FINANCE</td>\n",
       "      <td>4.0</td>\n",
       "      <td>36.0</td>\n",
       "      <td>4000.0</td>\n",
       "      <td>1000.0</td>\n",
       "      <td>Paid</td>\n",
       "      <td>399.99</td>\n",
       "      <td>Everyone</td>\n",
       "      <td>Finance</td>\n",
       "      <td>June 25, 2018</td>\n",
       "      <td>1.0.2</td>\n",
       "      <td>4.1 and up</td>\n",
       "    </tr>\n",
       "  </tbody>\n",
       "</table>\n",
       "</div>"
      ],
      "text/plain": [
       "                                 App   Category  Rating  Reviews    Size  \\\n",
       "4197          most expensive app (H)     FAMILY     4.3      6.0  1000.0   \n",
       "4362                      💎 I'm rich  LIFESTYLE     3.8    718.0  2000.0   \n",
       "4367        I'm Rich - Trump Edition  LIFESTYLE     3.6    275.0  7000.0   \n",
       "5351                       I am rich  LIFESTYLE     3.8   3547.0  1000.0   \n",
       "5354                  I am Rich Plus     FAMILY     4.0    856.0  8000.0   \n",
       "5355                   I am rich VIP  LIFESTYLE     3.8    411.0  2000.0   \n",
       "5356               I Am Rich Premium    FINANCE     4.1   1867.0  4000.0   \n",
       "5357             I am extremely Rich  LIFESTYLE     2.9     41.0  2000.0   \n",
       "5358                      I am Rich!    FINANCE     3.8     93.0  2000.0   \n",
       "5359              I am rich(premium)    FINANCE     3.5    472.0     9.0   \n",
       "5362                   I Am Rich Pro     FAMILY     4.4    201.0  2000.0   \n",
       "5364  I am rich (Most expensive app)    FINANCE     4.1    129.0  2000.0   \n",
       "5366                       I Am Rich     FAMILY     3.6    217.0  4000.0   \n",
       "5369                       I am Rich    FINANCE     4.3    180.0  3000.0   \n",
       "5373              I AM RICH PRO PLUS    FINANCE     4.0     36.0  4000.0   \n",
       "\n",
       "      Installs  Type   Price Content Rating         Genres       Last Updated  \\\n",
       "4197     100.0  Paid  399.99       Everyone  Entertainment      July 16, 2018   \n",
       "4362   10000.0  Paid  399.99       Everyone      Lifestyle     March 11, 2018   \n",
       "4367   10000.0  Paid  400.00       Everyone      Lifestyle        May 3, 2018   \n",
       "5351  100000.0  Paid  399.99       Everyone      Lifestyle   January 12, 2018   \n",
       "5354   10000.0  Paid  399.99       Everyone  Entertainment       May 19, 2018   \n",
       "5355   10000.0  Paid  299.99       Everyone      Lifestyle      July 21, 2018   \n",
       "5356   50000.0  Paid  399.99       Everyone        Finance  November 12, 2017   \n",
       "5357    1000.0  Paid  379.99       Everyone      Lifestyle       July 1, 2018   \n",
       "5358    1000.0  Paid  399.99       Everyone        Finance  December 11, 2017   \n",
       "5359    5000.0  Paid  399.99       Everyone        Finance        May 1, 2017   \n",
       "5362    5000.0  Paid  399.99       Everyone  Entertainment       May 30, 2017   \n",
       "5364    1000.0  Paid  399.99           Teen        Finance   December 6, 2017   \n",
       "5366   10000.0  Paid  389.99       Everyone  Entertainment      June 22, 2018   \n",
       "5369    5000.0  Paid  399.99       Everyone        Finance     March 22, 2018   \n",
       "5373    1000.0  Paid  399.99       Everyone        Finance      June 25, 2018   \n",
       "\n",
       "     Current Ver   Android Ver  \n",
       "4197           1    7.0 and up  \n",
       "4362       1.0.0    4.4 and up  \n",
       "4367       1.0.1    4.1 and up  \n",
       "5351           2  4.0.3 and up  \n",
       "5354           3    4.4 and up  \n",
       "5355       1.1.1    4.3 and up  \n",
       "5356         1.6    4.0 and up  \n",
       "5357           1    4.0 and up  \n",
       "5358           1    4.1 and up  \n",
       "5359         3.4    4.4 and up  \n",
       "5362        1.54    1.6 and up  \n",
       "5364           2  4.0.3 and up  \n",
       "5366         1.5    4.2 and up  \n",
       "5369           1    4.2 and up  \n",
       "5373       1.0.2    4.1 and up  "
      ]
     },
     "execution_count": 83,
     "metadata": {},
     "output_type": "execute_result"
    }
   ],
   "source": [
    "df[df.Price>200]"
   ]
  },
  {
   "cell_type": "markdown",
   "id": "5d8f89f8-2937-4b11-91e7-0b6d9c74016a",
   "metadata": {},
   "source": [
    "#### As we have 15 row having the price more than 200$"
   ]
  },
  {
   "cell_type": "code",
   "execution_count": 85,
   "id": "b277499e-e0a7-4d85-840f-756e61f65131",
   "metadata": {},
   "outputs": [
    {
     "data": {
      "text/plain": [
       "15"
      ]
     },
     "execution_count": 85,
     "metadata": {},
     "output_type": "execute_result"
    }
   ],
   "source": [
    "df[df.Price>200].shape[0]  "
   ]
  },
  {
   "cell_type": "markdown",
   "id": "ad683665-394e-495a-9e84-7011c459db17",
   "metadata": {},
   "source": [
    "#### Drop the rows having the price more than 200$\n"
   ]
  },
  {
   "cell_type": "markdown",
   "id": "b874411d-c65f-4f10-8e9c-02f257d2e6d0",
   "metadata": {},
   "source": [
    "Doing so, just work with rows having price less than 200$"
   ]
  },
  {
   "cell_type": "code",
   "execution_count": 88,
   "id": "54094a25-2a6a-4fdd-a6ee-e8dd8f9e4bd9",
   "metadata": {},
   "outputs": [],
   "source": [
    "df = df[df.Price<200].copy()"
   ]
  },
  {
   "cell_type": "code",
   "execution_count": 89,
   "id": "8818effe-9de7-44f1-ac25-997db2b65445",
   "metadata": {},
   "outputs": [
    {
     "data": {
      "text/plain": [
       "(9338, 13)"
      ]
     },
     "execution_count": 89,
     "metadata": {},
     "output_type": "execute_result"
    }
   ],
   "source": [
    "df.shape"
   ]
  },
  {
   "cell_type": "markdown",
   "id": "4425c63e-70ae-4fa2-bddf-2cfab6094d29",
   "metadata": {},
   "source": [
    "#### 6.2 Reviews: \n",
    "Very few apps have very high number of reviews. These are all star apps that don’t help with the analysis and, in fact, will skew it. Drop records having more than 2 million reviews."
   ]
  },
  {
   "cell_type": "code",
   "execution_count": 91,
   "id": "2adadaa7-5618-40c9-a3e1-6a7c91a1b903",
   "metadata": {},
   "outputs": [
    {
     "data": {
      "text/plain": [
       "count    9.338000e+03\n",
       "mean     5.155865e+05\n",
       "std      3.148627e+06\n",
       "min      1.000000e+00\n",
       "25%      1.880000e+02\n",
       "50%      6.009000e+03\n",
       "75%      8.247100e+04\n",
       "max      7.815831e+07\n",
       "Name: Reviews, dtype: float64"
      ]
     },
     "execution_count": 91,
     "metadata": {},
     "output_type": "execute_result"
    }
   ],
   "source": [
    "df.Reviews.describe()"
   ]
  },
  {
   "cell_type": "code",
   "execution_count": 92,
   "id": "22211f31-fcf3-4b11-a6d8-de04151a3e49",
   "metadata": {},
   "outputs": [
    {
     "data": {
      "text/plain": [
       "453"
      ]
     },
     "execution_count": 92,
     "metadata": {},
     "output_type": "execute_result"
    }
   ],
   "source": [
    "df[df.Reviews>2000000].shape[0]"
   ]
  },
  {
   "cell_type": "markdown",
   "id": "4ac9f5cc-00ae-4b9e-9d89-68e25f857b54",
   "metadata": {},
   "source": [
    "#### There are 453 rows having more than 2 million reviews. \n",
    "- We need to drop all these 453 rows as these rows do not require any analysis\n",
    "- So work like perviously, consider the dataset having reviews less than 2 million"
   ]
  },
  {
   "cell_type": "code",
   "execution_count": 94,
   "id": "5992237b-afe7-403e-a780-7168050ba4f9",
   "metadata": {},
   "outputs": [],
   "source": [
    "df = df[df.Reviews<2000000].copy()"
   ]
  },
  {
   "cell_type": "code",
   "execution_count": 95,
   "id": "4eb721f9-38f8-43fa-92b6-2316a5ab02bc",
   "metadata": {},
   "outputs": [
    {
     "data": {
      "text/plain": [
       "(8885, 13)"
      ]
     },
     "execution_count": 95,
     "metadata": {},
     "output_type": "execute_result"
    }
   ],
   "source": [
    "df.shape"
   ]
  },
  {
   "cell_type": "markdown",
   "id": "5a4dba11-38df-4d72-a814-f3cb4b821cdc",
   "metadata": {},
   "source": [
    "#### 6.3\tInstalls:  There seems to be some outliers in this field too. Apps having very high number of installs should be dropped from the analysis.\n",
    "        a.\tFind out the different percentiles – 10, 25, 50, 70, 90, 95, 99\n",
    "        b.\tDecide a threshold as cutoff for outlier and drop records having values more than that\n",
    "\n",
    "Dropping very high Installs values"
   ]
  },
  {
   "cell_type": "code",
   "execution_count": 97,
   "id": "425f15e1-5869-40a9-bcf4-2b54b78754a7",
   "metadata": {},
   "outputs": [
    {
     "data": {
      "text/plain": [
       "0.10         1000.0\n",
       "0.25        10000.0\n",
       "0.50       500000.0\n",
       "0.70      1000000.0\n",
       "0.90     10000000.0\n",
       "0.95     10000000.0\n",
       "0.99    100000000.0\n",
       "Name: Installs, dtype: float64"
      ]
     },
     "execution_count": 97,
     "metadata": {},
     "output_type": "execute_result"
    }
   ],
   "source": [
    "df.Installs.quantile([0.1, 0.25, 0.5, 0.70, 0.9, 0.95, 0.99])"
   ]
  },
  {
   "cell_type": "code",
   "execution_count": 98,
   "id": "1a06e34d-edeb-41e7-b799-a26ecbe620aa",
   "metadata": {},
   "outputs": [
    {
     "data": {
      "text/plain": [
       "142"
      ]
     },
     "execution_count": 98,
     "metadata": {},
     "output_type": "execute_result"
    }
   ],
   "source": [
    "df[df.Installs>=df.Installs.quantile(0.99)].shape[0]"
   ]
  },
  {
   "cell_type": "code",
   "execution_count": 99,
   "id": "c78b1fae-f84e-4cd4-a647-4e73264e5d74",
   "metadata": {},
   "outputs": [],
   "source": [
    "### Below are the few rows having more than 99 percentile.  "
   ]
  },
  {
   "cell_type": "code",
   "execution_count": 100,
   "id": "d55c053e-364b-40c1-94a3-935f48a9ee09",
   "metadata": {},
   "outputs": [
    {
     "data": {
      "text/html": [
       "<div>\n",
       "<style scoped>\n",
       "    .dataframe tbody tr th:only-of-type {\n",
       "        vertical-align: middle;\n",
       "    }\n",
       "\n",
       "    .dataframe tbody tr th {\n",
       "        vertical-align: top;\n",
       "    }\n",
       "\n",
       "    .dataframe thead th {\n",
       "        text-align: right;\n",
       "    }\n",
       "</style>\n",
       "<table border=\"1\" class=\"dataframe\">\n",
       "  <thead>\n",
       "    <tr style=\"text-align: right;\">\n",
       "      <th></th>\n",
       "      <th>App</th>\n",
       "      <th>Category</th>\n",
       "      <th>Rating</th>\n",
       "      <th>Reviews</th>\n",
       "      <th>Size</th>\n",
       "      <th>Installs</th>\n",
       "      <th>Type</th>\n",
       "      <th>Price</th>\n",
       "      <th>Content Rating</th>\n",
       "      <th>Genres</th>\n",
       "      <th>Last Updated</th>\n",
       "      <th>Current Ver</th>\n",
       "      <th>Android Ver</th>\n",
       "    </tr>\n",
       "  </thead>\n",
       "  <tbody>\n",
       "    <tr>\n",
       "      <th>152</th>\n",
       "      <td>Google Play Books</td>\n",
       "      <td>BOOKS_AND_REFERENCE</td>\n",
       "      <td>3.9</td>\n",
       "      <td>1433233.0</td>\n",
       "      <td>5000.0</td>\n",
       "      <td>1.000000e+09</td>\n",
       "      <td>Free</td>\n",
       "      <td>0.0</td>\n",
       "      <td>Teen</td>\n",
       "      <td>Books &amp; Reference</td>\n",
       "      <td>August 3, 2018</td>\n",
       "      <td>Varies with device</td>\n",
       "      <td>Varies with device</td>\n",
       "    </tr>\n",
       "    <tr>\n",
       "      <th>3265</th>\n",
       "      <td>Gboard - the Google Keyboard</td>\n",
       "      <td>TOOLS</td>\n",
       "      <td>4.2</td>\n",
       "      <td>1859115.0</td>\n",
       "      <td>1000.0</td>\n",
       "      <td>5.000000e+08</td>\n",
       "      <td>Free</td>\n",
       "      <td>0.0</td>\n",
       "      <td>Everyone</td>\n",
       "      <td>Tools</td>\n",
       "      <td>July 31, 2018</td>\n",
       "      <td>Varies with device</td>\n",
       "      <td>Varies with device</td>\n",
       "    </tr>\n",
       "    <tr>\n",
       "      <th>3326</th>\n",
       "      <td>Gboard - the Google Keyboard</td>\n",
       "      <td>TOOLS</td>\n",
       "      <td>4.2</td>\n",
       "      <td>1859109.0</td>\n",
       "      <td>8000.0</td>\n",
       "      <td>5.000000e+08</td>\n",
       "      <td>Free</td>\n",
       "      <td>0.0</td>\n",
       "      <td>Everyone</td>\n",
       "      <td>Tools</td>\n",
       "      <td>July 31, 2018</td>\n",
       "      <td>Varies with device</td>\n",
       "      <td>Varies with device</td>\n",
       "    </tr>\n",
       "    <tr>\n",
       "      <th>3473</th>\n",
       "      <td>Dropbox</td>\n",
       "      <td>PRODUCTIVITY</td>\n",
       "      <td>4.4</td>\n",
       "      <td>1861310.0</td>\n",
       "      <td>6000.0</td>\n",
       "      <td>5.000000e+08</td>\n",
       "      <td>Free</td>\n",
       "      <td>0.0</td>\n",
       "      <td>Everyone</td>\n",
       "      <td>Productivity</td>\n",
       "      <td>August 1, 2018</td>\n",
       "      <td>Varies with device</td>\n",
       "      <td>Varies with device</td>\n",
       "    </tr>\n",
       "    <tr>\n",
       "      <th>3476</th>\n",
       "      <td>Google Calendar</td>\n",
       "      <td>PRODUCTIVITY</td>\n",
       "      <td>4.2</td>\n",
       "      <td>858208.0</td>\n",
       "      <td>1000.0</td>\n",
       "      <td>5.000000e+08</td>\n",
       "      <td>Free</td>\n",
       "      <td>0.0</td>\n",
       "      <td>Everyone</td>\n",
       "      <td>Productivity</td>\n",
       "      <td>August 6, 2018</td>\n",
       "      <td>Varies with device</td>\n",
       "      <td>Varies with device</td>\n",
       "    </tr>\n",
       "  </tbody>\n",
       "</table>\n",
       "</div>"
      ],
      "text/plain": [
       "                               App             Category  Rating    Reviews  \\\n",
       "152              Google Play Books  BOOKS_AND_REFERENCE     3.9  1433233.0   \n",
       "3265  Gboard - the Google Keyboard                TOOLS     4.2  1859115.0   \n",
       "3326  Gboard - the Google Keyboard                TOOLS     4.2  1859109.0   \n",
       "3473                       Dropbox         PRODUCTIVITY     4.4  1861310.0   \n",
       "3476               Google Calendar         PRODUCTIVITY     4.2   858208.0   \n",
       "\n",
       "        Size      Installs  Type  Price Content Rating             Genres  \\\n",
       "152   5000.0  1.000000e+09  Free    0.0           Teen  Books & Reference   \n",
       "3265  1000.0  5.000000e+08  Free    0.0       Everyone              Tools   \n",
       "3326  8000.0  5.000000e+08  Free    0.0       Everyone              Tools   \n",
       "3473  6000.0  5.000000e+08  Free    0.0       Everyone       Productivity   \n",
       "3476  1000.0  5.000000e+08  Free    0.0       Everyone       Productivity   \n",
       "\n",
       "        Last Updated         Current Ver         Android Ver  \n",
       "152   August 3, 2018  Varies with device  Varies with device  \n",
       "3265   July 31, 2018  Varies with device  Varies with device  \n",
       "3326   July 31, 2018  Varies with device  Varies with device  \n",
       "3473  August 1, 2018  Varies with device  Varies with device  \n",
       "3476  August 6, 2018  Varies with device  Varies with device  "
      ]
     },
     "execution_count": 100,
     "metadata": {},
     "output_type": "execute_result"
    }
   ],
   "source": [
    "df[df.Installs>df.Installs.quantile(0.99)].head()"
   ]
  },
  {
   "cell_type": "markdown",
   "id": "06332157-49b4-457e-985b-f7ffeb094d64",
   "metadata": {},
   "source": [
    "### Drop all these 142 rows."
   ]
  },
  {
   "cell_type": "code",
   "execution_count": 102,
   "id": "6d3b30e2-ea3c-453a-bcba-a2625dcb9352",
   "metadata": {},
   "outputs": [],
   "source": [
    "df= df[df.Installs<df.Installs.quantile(0.99)].copy()"
   ]
  },
  {
   "cell_type": "code",
   "execution_count": 103,
   "id": "9a3a70d6-3a8f-4f19-8ccb-3cc8d4c00cf0",
   "metadata": {},
   "outputs": [
    {
     "data": {
      "text/plain": [
       "(8743, 13)"
      ]
     },
     "execution_count": 103,
     "metadata": {},
     "output_type": "execute_result"
    }
   ],
   "source": [
    "# Now check the shape of the dataset\n",
    "df.shape"
   ]
  },
  {
   "cell_type": "markdown",
   "id": "9a1ba015-d28a-42d2-977c-e64c57a7654c",
   "metadata": {},
   "source": [
    "#### 7. Bivariate analysis: Let’s look at how the available predictors relate to the variable of interest, i.e., our target variable rating. Make scatter plots (for numeric features) and box plots (for character features) to assess the relations between rating and the other features.\n",
    "\n",
    "    1.\tMake scatter plot/joinplot for Rating vs. Price\n",
    "        a.\tWhat pattern do you observe? Does rating increase with price?\n",
    "    2.\tMake scatter plot/joinplot for Rating vs. Size\n",
    "        a.\tAre heavier apps rated better?\n",
    "    3.\tMake scatter plot/joinplot for Rating vs. Reviews\n",
    "        a.\tDoes more review mean a better rating always?\n",
    "    4.\tMake boxplot for Rating vs. Content Rating\n",
    "        a.\tIs there any difference in the ratings? Are some types liked better?\n",
    "    5.\tMake boxplot for Ratings vs. Category\n",
    "        a.\tWhich genre has the best ratings?\n",
    "\n",
    "##### For each of the plots above, note down your observation."
   ]
  },
  {
   "cell_type": "markdown",
   "id": "ad028f7a-b969-4cfc-92be-9794dbf1527b",
   "metadata": {},
   "source": [
    " ### 7.1.\tMake scatter plot/joinplot for Rating vs Price\n",
    "-     a.\tWhat pattern do you observe? Does rating increase with price?"
   ]
  },
  {
   "cell_type": "code",
   "execution_count": 106,
   "id": "efb7f9f2-6af9-4d1e-bf07-52f5b378dc98",
   "metadata": {},
   "outputs": [
    {
     "data": {
      "image/png": "[encoded data removed]",
      "text/plain": [
       "<Figure size 600x600 with 3 Axes>"
      ]
     },
     "metadata": {},
     "output_type": "display_data"
    }
   ],
   "source": [
    "plot = sns.jointplot(y = df.Rating, x = df.Price, kind = 'scatter');\n",
    "plot.fig.suptitle(\"Rating vs Price\");"
   ]
  },
  {
   "cell_type": "markdown",
   "id": "1ecf8994-696a-4230-af13-c2d4684d5441",
   "metadata": {},
   "source": [
    "### 7.2\tMake scatter plot/joinplot for Rating vs Size\n",
    "     a.\tAre heavier apps rated better?"
   ]
  },
  {
   "cell_type": "code",
   "execution_count": 108,
   "id": "1da92625-1be3-431a-aef9-a5834c4f5062",
   "metadata": {},
   "outputs": [
    {
     "data": {
      "image/png": "[encoded data removed]",
      "text/plain": [
       "<Figure size 600x600 with 3 Axes>"
      ]
     },
     "metadata": {},
     "output_type": "display_data"
    }
   ],
   "source": [
    "plot = sns.jointplot(y = df.Rating, x = df.Size, kind = 'scatter');\n",
    "plot.fig.suptitle(\"Rating vs Size\");"
   ]
  },
  {
   "cell_type": "markdown",
   "id": "71247f62-1ffd-4617-a061-938638609d25",
   "metadata": {},
   "source": [
    "#### 7.3\tMake scatter plot/joinplot for Rating vs Reviews\n",
    "    a.\tDoes more review mean a better rating always?"
   ]
  },
  {
   "cell_type": "code",
   "execution_count": 110,
   "id": "21512ba4-fd3b-45dc-890d-738aad17b6f3",
   "metadata": {},
   "outputs": [
    {
     "data": {
      "image/png": "[encoded data removed]",
      "text/plain": [
       "<Figure size 600x600 with 3 Axes>"
      ]
     },
     "metadata": {},
     "output_type": "display_data"
    }
   ],
   "source": [
    "plot = sns.jointplot(y = df.Rating, x = df.Reviews, kind = 'scatter');\n",
    "plot.fig.suptitle(\"Rating vs Reviews\");"
   ]
  },
  {
   "cell_type": "markdown",
   "id": "00c75b3e-d2e3-46b7-bde8-ce2eab938fe4",
   "metadata": {},
   "source": [
    "#### 7.4\tMake boxplot for Rating vs Content Rating\n",
    "    a.\tIs there any difference in the ratings? Are some types liked better?"
   ]
  },
  {
   "cell_type": "code",
   "execution_count": 112,
   "id": "4d19d7a1-05fa-42a2-a9c6-5fcd3dd04f47",
   "metadata": {},
   "outputs": [
    {
     "data": {
      "image/png": "[encoded data removed]",
      "text/plain": [
       "<Figure size 800x600 with 1 Axes>"
      ]
     },
     "metadata": {},
     "output_type": "display_data"
    }
   ],
   "source": [
    "\n",
    "plt.figure(figsize=[8,6])\n",
    "sns.boxplot(x=df['Content Rating'], y=df.Rating, palette = 'Set2').set(title =\"Boxplot for Rating vs Content Rating\");"
   ]
  },
  {
   "cell_type": "markdown",
   "id": "2fb2dd9a-9b44-4c8d-adf4-a7d6e35c2ab7",
   "metadata": {},
   "source": [
    "#### 7.5\tMake boxplot for Ratings vs. Category\n",
    "    a.\tWhich genre has the best ratings?"
   ]
  },
  {
   "cell_type": "code",
   "execution_count": 114,
   "id": "5c3300bf-ab6e-4674-aeb7-fb7e7f92df3f",
   "metadata": {},
   "outputs": [
    {
     "data": {
      "text/plain": [
       "([0,\n",
       "  1,\n",
       "  2,\n",
       "  3,\n",
       "  4,\n",
       "  5,\n",
       "  6,\n",
       "  7,\n",
       "  8,\n",
       "  9,\n",
       "  10,\n",
       "  11,\n",
       "  12,\n",
       "  13,\n",
       "  14,\n",
       "  15,\n",
       "  16,\n",
       "  17,\n",
       "  18,\n",
       "  19,\n",
       "  20,\n",
       "  21,\n",
       "  22,\n",
       "  23,\n",
       "  24,\n",
       "  25,\n",
       "  26,\n",
       "  27,\n",
       "  28,\n",
       "  29,\n",
       "  30,\n",
       "  31,\n",
       "  32],\n",
       " [Text(0, 0, 'ART_AND_DESIGN'),\n",
       "  Text(1, 0, 'AUTO_AND_VEHICLES'),\n",
       "  Text(2, 0, 'BEAUTY'),\n",
       "  Text(3, 0, 'BOOKS_AND_REFERENCE'),\n",
       "  Text(4, 0, 'BUSINESS'),\n",
       "  Text(5, 0, 'COMICS'),\n",
       "  Text(6, 0, 'COMMUNICATION'),\n",
       "  Text(7, 0, 'DATING'),\n",
       "  Text(8, 0, 'EDUCATION'),\n",
       "  Text(9, 0, 'ENTERTAINMENT'),\n",
       "  Text(10, 0, 'EVENTS'),\n",
       "  Text(11, 0, 'FINANCE'),\n",
       "  Text(12, 0, 'FOOD_AND_DRINK'),\n",
       "  Text(13, 0, 'HEALTH_AND_FITNESS'),\n",
       "  Text(14, 0, 'HOUSE_AND_HOME'),\n",
       "  Text(15, 0, 'LIBRARIES_AND_DEMO'),\n",
       "  Text(16, 0, 'LIFESTYLE'),\n",
       "  Text(17, 0, 'GAME'),\n",
       "  Text(18, 0, 'FAMILY'),\n",
       "  Text(19, 0, 'MEDICAL'),\n",
       "  Text(20, 0, 'SOCIAL'),\n",
       "  Text(21, 0, 'SHOPPING'),\n",
       "  Text(22, 0, 'PHOTOGRAPHY'),\n",
       "  Text(23, 0, 'SPORTS'),\n",
       "  Text(24, 0, 'TRAVEL_AND_LOCAL'),\n",
       "  Text(25, 0, 'TOOLS'),\n",
       "  Text(26, 0, 'PERSONALIZATION'),\n",
       "  Text(27, 0, 'PRODUCTIVITY'),\n",
       "  Text(28, 0, 'PARENTING'),\n",
       "  Text(29, 0, 'WEATHER'),\n",
       "  Text(30, 0, 'VIDEO_PLAYERS'),\n",
       "  Text(31, 0, 'NEWS_AND_MAGAZINES'),\n",
       "  Text(32, 0, 'MAPS_AND_NAVIGATION')])"
      ]
     },
     "execution_count": 114,
     "metadata": {},
     "output_type": "execute_result"
    },
    {
     "data": {
      "image/png": "[encoded data removed]",
      "text/plain": [
       "<Figure size 1500x1000 with 1 Axes>"
      ]
     },
     "metadata": {},
     "output_type": "display_data"
    }
   ],
   "source": [
    "plt.figure(figsize=[15,10])\n",
    "sns.boxplot(x=df.Category, y=df.Rating, palette = 'Set2').set(title =\"Boxplot for Rating vs Category\");\n",
    "plt.xticks(rotation=90)"
   ]
  },
  {
   "cell_type": "markdown",
   "id": "8c53a7a7-927d-4809-9d2c-87314d2d7f74",
   "metadata": {},
   "source": [
    "## 8 Data preprocessing\n",
    "\n",
    "For the steps below, create a copy of the dataframe to make all the edits. Name it df1.\n",
    "\n",
    "    1. Reviews and Install have some values that are still relatively very high. Before building a linear regression model, you need to reduce the skew. Apply log transformation (np.log1p) to Reviews and Installs.\n",
    "    2. Drop columns App, Last Updated, Current Ver, and Android Ver. These variables are not useful for our task.\n",
    "    3. Get dummy columns for Category, Genres, and Content Rating. This needs to be done as the models do not understand categorical data, and all data should be numeric. Dummy encoding is one way to convert character fields to numeric. Name of dataframe should be inp2.\n"
   ]
  },
  {
   "cell_type": "code",
   "execution_count": 116,
   "id": "4b43ad70-236c-4870-a943-199e1bda8c7f",
   "metadata": {},
   "outputs": [],
   "source": [
    "df1 = df.copy()"
   ]
  },
  {
   "cell_type": "markdown",
   "id": "65905778-d78f-4515-a0aa-62d762a66432",
   "metadata": {},
   "source": [
    "#### 8.1\tReviews and Install have some values that are still relatively very high. Before building a linear regression model, you need to reduce the skew. Apply log transformation (np.log1p) to Reviews and Installs."
   ]
  },
  {
   "cell_type": "markdown",
   "id": "3760d548-63ba-409c-a188-6ecc10749194",
   "metadata": {},
   "source": [
    "# check describe for installs"
   ]
  },
  {
   "cell_type": "code",
   "execution_count": 119,
   "id": "27b2ca19-ba39-4dee-971d-388c204b6a86",
   "metadata": {},
   "outputs": [
    {
     "data": {
      "text/plain": [
       "count    8.743000e+03\n",
       "mean     3.486865e+06\n",
       "std      8.659419e+06\n",
       "min      5.000000e+00\n",
       "25%      1.000000e+04\n",
       "50%      1.000000e+05\n",
       "75%      5.000000e+06\n",
       "max      5.000000e+07\n",
       "Name: Installs, dtype: float64"
      ]
     },
     "execution_count": 119,
     "metadata": {},
     "output_type": "execute_result"
    }
   ],
   "source": [
    "df1.Installs.describe()"
   ]
  },
  {
   "cell_type": "code",
   "execution_count": 120,
   "id": "e0ad82e6-b7c4-40b4-894f-dd78991c5595",
   "metadata": {},
   "outputs": [],
   "source": [
    "df1.Installs = df1.Installs.apply(np.log1p)"
   ]
  },
  {
   "cell_type": "code",
   "execution_count": 121,
   "id": "c4157892-36fa-4383-b848-7aa241e53f88",
   "metadata": {},
   "outputs": [
    {
     "data": {
      "text/plain": [
       "count    8743.000000\n",
       "mean       11.878426\n",
       "std         3.548943\n",
       "min         1.791759\n",
       "25%         9.210440\n",
       "50%        11.512935\n",
       "75%        15.424949\n",
       "max        17.727534\n",
       "Name: Installs, dtype: float64"
      ]
     },
     "execution_count": 121,
     "metadata": {},
     "output_type": "execute_result"
    }
   ],
   "source": [
    "df1.Installs.describe()"
   ]
  },
  {
   "cell_type": "code",
   "execution_count": 122,
   "id": "b87813e5-df88-4bf9-b201-da11bf6bb164",
   "metadata": {},
   "outputs": [
    {
     "data": {
      "text/plain": [
       "count    8.743000e+03\n",
       "mean     8.957859e+04\n",
       "std      2.320521e+05\n",
       "min      1.000000e+00\n",
       "25%      1.490000e+02\n",
       "50%      3.878000e+03\n",
       "75%      5.023650e+04\n",
       "max      1.986068e+06\n",
       "Name: Reviews, dtype: float64"
      ]
     },
     "execution_count": 122,
     "metadata": {},
     "output_type": "execute_result"
    }
   ],
   "source": [
    "# do same for reviews\n",
    "df1.Reviews.describe()"
   ]
  },
  {
   "cell_type": "code",
   "execution_count": 123,
   "id": "d5d1b56f-cdf0-4eb7-84f6-ea8000f913cf",
   "metadata": {},
   "outputs": [
    {
     "data": {
      "text/plain": [
       "count    8743.000000\n",
       "mean        7.934548\n",
       "std         3.525097\n",
       "min         0.693147\n",
       "25%         5.010635\n",
       "50%         8.263333\n",
       "75%        10.824516\n",
       "max        14.501668\n",
       "Name: Reviews, dtype: float64"
      ]
     },
     "execution_count": 123,
     "metadata": {},
     "output_type": "execute_result"
    }
   ],
   "source": [
    "df1.Reviews = df1.Reviews.apply(np.log1p)\n",
    "df1.Reviews.describe()"
   ]
  },
  {
   "cell_type": "markdown",
   "id": "edf191be-4112-4d05-8f85-73e3d8feeffc",
   "metadata": {},
   "source": [
    "#### 8.2\tDrop columns App, Last Updated, Current Ver, and Android Ver. These variables are not useful for our task."
   ]
  },
  {
   "cell_type": "code",
   "execution_count": 125,
   "id": "1ebbe749-2a7d-48dc-9dba-4db40186a140",
   "metadata": {},
   "outputs": [],
   "source": [
    "df1.drop([\"App\", \"Last Updated\", \"Current Ver\", \"Android Ver\"], axis=1, inplace=True)"
   ]
  },
  {
   "cell_type": "code",
   "execution_count": 126,
   "id": "5e80b7bc-5a5c-47e9-a067-8e84f58402d1",
   "metadata": {},
   "outputs": [
    {
     "data": {
      "text/plain": [
       "(8743, 9)"
      ]
     },
     "execution_count": 126,
     "metadata": {},
     "output_type": "execute_result"
    }
   ],
   "source": [
    "df1.shape"
   ]
  },
  {
   "cell_type": "markdown",
   "id": "15d92c3c-2545-4ca1-8ea9-6e07a27d75a8",
   "metadata": {},
   "source": [
    "#### 8.3\tGet dummy columns for Category, Genres, and Content Rating. This needs to be done as the models do not understand categorical data, and all data should be numeric. Dummy encoding is one way to convert character fields to numeric. Name of dataframe should be inp2.\n",
    "\n",
    "Getting dummy variables for Category, Genres, Content Rating"
   ]
  },
  {
   "cell_type": "code",
   "execution_count": 128,
   "id": "693997c0-19e5-43dc-bf8a-9bbbc7ced475",
   "metadata": {},
   "outputs": [
    {
     "data": {
      "text/plain": [
       "Category           object\n",
       "Rating            float64\n",
       "Reviews           float64\n",
       "Size              float64\n",
       "Installs          float64\n",
       "Type               object\n",
       "Price             float64\n",
       "Content Rating     object\n",
       "Genres             object\n",
       "dtype: object"
      ]
     },
     "execution_count": 128,
     "metadata": {},
     "output_type": "execute_result"
    }
   ],
   "source": [
    "df1.dtypes"
   ]
  },
  {
   "cell_type": "code",
   "execution_count": 129,
   "id": "7b3aeac7-5c45-48ee-9d73-6428f8399f8a",
   "metadata": {},
   "outputs": [],
   "source": [
    "df2 = pd.get_dummies(df1, drop_first=True)"
   ]
  },
  {
   "cell_type": "code",
   "execution_count": 130,
   "id": "06e5b50a-cb65-4de1-aa7f-3b2b696d990f",
   "metadata": {},
   "outputs": [
    {
     "data": {
      "text/plain": [
       "Index(['Rating', 'Reviews', 'Size', 'Installs', 'Price',\n",
       "       'Category_AUTO_AND_VEHICLES', 'Category_BEAUTY',\n",
       "       'Category_BOOKS_AND_REFERENCE', 'Category_BUSINESS', 'Category_COMICS',\n",
       "       ...\n",
       "       'Genres_Tools', 'Genres_Tools;Education', 'Genres_Travel & Local',\n",
       "       'Genres_Travel & Local;Action & Adventure', 'Genres_Trivia',\n",
       "       'Genres_Video Players & Editors',\n",
       "       'Genres_Video Players & Editors;Creativity',\n",
       "       'Genres_Video Players & Editors;Music & Video', 'Genres_Weather',\n",
       "       'Genres_Word'],\n",
       "      dtype='object', length=157)"
      ]
     },
     "execution_count": 130,
     "metadata": {},
     "output_type": "execute_result"
    }
   ],
   "source": [
    "# Display column names after creating dummy\n",
    "df2.columns"
   ]
  },
  {
   "cell_type": "code",
   "execution_count": 131,
   "id": "86ff6c12-158c-4ef2-b62b-47c45742cb75",
   "metadata": {},
   "outputs": [
    {
     "data": {
      "text/plain": [
       "(8743, 157)"
      ]
     },
     "execution_count": 131,
     "metadata": {},
     "output_type": "execute_result"
    }
   ],
   "source": [
    "# Check the shape of the df2 \n",
    "df2.shape"
   ]
  },
  {
   "cell_type": "markdown",
   "id": "eb549d43-ced7-41df-b228-ed350830cc6d",
   "metadata": {},
   "source": [
    "## 9. Train test split  and apply 70-30 split. Name the new dataframes df_train and df_test.\n",
    "\n",
    "Train - test split"
   ]
  },
  {
   "cell_type": "code",
   "execution_count": 133,
   "id": "607df881-be77-415b-b97b-4038f47b6ece",
   "metadata": {},
   "outputs": [],
   "source": [
    "from sklearn.model_selection import train_test_split"
   ]
  },
  {
   "cell_type": "code",
   "execution_count": 134,
   "id": "f7f2ba82-3f50-420f-aa6d-4ac9d501d672",
   "metadata": {},
   "outputs": [],
   "source": [
    "# train_test_split"
   ]
  },
  {
   "cell_type": "code",
   "execution_count": 135,
   "id": "bae9e022-2ca8-4672-a8da-3dc30342385a",
   "metadata": {},
   "outputs": [],
   "source": [
    "df_train, df_test = train_test_split(df2, train_size = 0.7, random_state = 100)"
   ]
  },
  {
   "cell_type": "code",
   "execution_count": 136,
   "id": "eaf156f3-90f3-426b-8531-2613a9f323e2",
   "metadata": {},
   "outputs": [
    {
     "data": {
      "text/plain": [
       "((6120, 157), (2623, 157))"
      ]
     },
     "execution_count": 136,
     "metadata": {},
     "output_type": "execute_result"
    }
   ],
   "source": [
    "df_train.shape, df_test.shape"
   ]
  },
  {
   "cell_type": "markdown",
   "id": "88e76f89-ef58-45b8-b73a-6de9afc5a09d",
   "metadata": {},
   "source": [
    "## 10. Separate the dataframes into X_train, y_train, X_test, and y_test."
   ]
  },
  {
   "cell_type": "code",
   "execution_count": 138,
   "id": "8dc7c670-515c-4726-baa1-76f8391b89ee",
   "metadata": {},
   "outputs": [],
   "source": [
    "y_train = df_train.pop(\"Rating\")\n",
    "X_train = df_train"
   ]
  },
  {
   "cell_type": "code",
   "execution_count": 139,
   "id": "2f78adb1-b149-4c29-840b-643f11ce0466",
   "metadata": {},
   "outputs": [
    {
     "data": {
      "text/plain": [
       "5705     3.3\n",
       "2981     4.3\n",
       "8381     4.2\n",
       "10045    4.1\n",
       "1822     4.3\n",
       "        ... \n",
       "399      4.3\n",
       "81       4.4\n",
       "9869     3.4\n",
       "8516     3.8\n",
       "6791     3.8\n",
       "Name: Rating, Length: 6120, dtype: float64"
      ]
     },
     "execution_count": 139,
     "metadata": {},
     "output_type": "execute_result"
    }
   ],
   "source": [
    "y_train"
   ]
  },
  {
   "cell_type": "code",
   "execution_count": 140,
   "id": "c0e7ecbc-5bbd-4fa4-8727-931ee2d9e2b4",
   "metadata": {},
   "outputs": [],
   "source": [
    "y_test = df_test.pop(\"Rating\")\n",
    "X_test = df_test"
   ]
  },
  {
   "cell_type": "code",
   "execution_count": 141,
   "id": "3290753c-d885-4616-b5fa-036a2868b24c",
   "metadata": {},
   "outputs": [
    {
     "name": "stdout",
     "output_type": "stream",
     "text": [
      "(6120, 156)\n",
      "(6120,)\n",
      "(2623, 156)\n",
      "(2623,)\n"
     ]
    }
   ],
   "source": [
    "print(X_train.shape)\n",
    "print(y_train.shape)\n",
    "print(X_test.shape)\n",
    "print(y_test.shape)"
   ]
  },
  {
   "cell_type": "markdown",
   "id": "4310236b-ae1d-4f8c-a16d-11bfaf18c589",
   "metadata": {},
   "source": [
    "# Build the model"
   ]
  },
  {
   "cell_type": "markdown",
   "id": "d2837b60-5589-47e6-bc53-a6f00417f26d",
   "metadata": {},
   "source": [
    "## 11 . Model building"
   ]
  },
  {
   "cell_type": "code",
   "execution_count": 144,
   "id": "2e059117-05c7-46e0-9156-aae515fcd676",
   "metadata": {},
   "outputs": [
    {
     "data": {
      "text/plain": [
       "Index(['Reviews', 'Size', 'Installs', 'Price', 'Category_AUTO_AND_VEHICLES',\n",
       "       'Category_BEAUTY', 'Category_BOOKS_AND_REFERENCE', 'Category_BUSINESS',\n",
       "       'Category_COMICS', 'Category_COMMUNICATION',\n",
       "       ...\n",
       "       'Genres_Tools', 'Genres_Tools;Education', 'Genres_Travel & Local',\n",
       "       'Genres_Travel & Local;Action & Adventure', 'Genres_Trivia',\n",
       "       'Genres_Video Players & Editors',\n",
       "       'Genres_Video Players & Editors;Creativity',\n",
       "       'Genres_Video Players & Editors;Music & Video', 'Genres_Weather',\n",
       "       'Genres_Word'],\n",
       "      dtype='object', length=156)"
      ]
     },
     "execution_count": 144,
     "metadata": {},
     "output_type": "execute_result"
    }
   ],
   "source": [
    "X_train.columns"
   ]
  },
  {
   "cell_type": "code",
   "execution_count": 145,
   "id": "1ebcc7e8-aef6-435c-9e13-fe5074b40171",
   "metadata": {},
   "outputs": [
    {
     "name": "stdout",
     "output_type": "stream",
     "text": [
      "4.469\n",
      "[ 0.172  0.    -0.15   0.     0.137  0.216  0.183  0.079  0.341  0.059\n",
      "  0.013  0.001 -0.098  0.274 -0.001  0.053  0.107  0.172  0.1    0.085\n",
      "  0.128  0.096  0.032  0.125  0.08   0.183  0.164  0.095  0.082  0.113\n",
      "  0.095  0.076  0.125  0.109 -0.045  0.111 -0.102 -0.049 -0.054 -0.062\n",
      " -0.047 -0.045  0.206 -0.064  0.119  0.469 -0.078  0.031  0.201  0.405\n",
      "  0.471  0.624  0.267  0.137  0.216  0.006  0.079  0.322  0.     0.183\n",
      "  0.195  0.079 -0.143 -0.01   0.584  0.035  0.025  0.132  0.47   0.349\n",
      "  0.365  0.288  0.158 -0.247  0.588  0.059 -0.     0.013  0.336  0.585\n",
      "  0.224  0.65   0.391  0.164  0.487 -0.099  0.232  0.631  0.063  0.417\n",
      "  0.192  0.141  0.244  0.343  0.482 -0.     0.233  0.147  0.274  0.053\n",
      "  0.107  0.1   -0.239  0.419  0.085  0.128  0.096  0.213  0.     0.032\n",
      "  0.125 -0.062  0.59   0.365  0.08   0.228 -0.142 -0.09   0.187  0.164\n",
      "  0.095  0.082  0.292  0.196  0.318  0.28   0.75  -0.084  0.333  0.\n",
      "  0.086  0.123  0.    -0.085  0.113  0.116  0.27   0.178  0.106  0.095\n",
      "  0.106  0.366  0.003  0.307  0.02   0.732 -0.054  0.18  -0.008  0.117\n",
      " -0.254  0.113 -0.042  0.054  0.111  0.103]\n"
     ]
    }
   ],
   "source": [
    "from sklearn.linear_model import LinearRegression\n",
    "# instantiate\n",
    "linreg = LinearRegression()\n",
    "\n",
    "# fit the model to the training data\n",
    "linreg.fit(X_train, y_train)                   # training the model on training data. \n",
    "\n",
    "# print the intercept and coefficients\n",
    "print (round(linreg.intercept_,3)) # B0\n",
    "print (np.round(linreg.coef_,3)) # B1, B2, B3.....\n",
    "\n"
   ]
  },
  {
   "cell_type": "markdown",
   "id": "09293b30-7933-4e26-b7b4-2cbb11f73617",
   "metadata": {},
   "source": [
    "## Making predictions"
   ]
  },
  {
   "cell_type": "code",
   "execution_count": 147,
   "id": "dc84fcf2-85bd-486f-b2a7-3c0c4959bc33",
   "metadata": {},
   "outputs": [
    {
     "data": {
      "text/plain": [
       "array([4.04471422, 3.96484951, 4.21178246, 4.51119308, 4.15425577])"
      ]
     },
     "execution_count": 147,
     "metadata": {},
     "output_type": "execute_result"
    }
   ],
   "source": [
    "# make predictions on the testing data\n",
    "y_pred = linreg.predict(X_test)\n",
    "y_pred[:5]"
   ]
  },
  {
   "cell_type": "markdown",
   "id": "1a63125d-f264-406b-a5a9-3fac676d7794",
   "metadata": {},
   "source": [
    "## Model Evaluation"
   ]
  },
  {
   "cell_type": "markdown",
   "id": "68c97d3b-b9cc-4213-ae19-2faf32244133",
   "metadata": {},
   "source": [
    "#### RMSE - Root Mean Squared Error"
   ]
  },
  {
   "cell_type": "code",
   "execution_count": 150,
   "id": "3234aab4-7fdc-4c44-8ec6-44a8a3e8ea65",
   "metadata": {},
   "outputs": [
    {
     "name": "stdout",
     "output_type": "stream",
     "text": [
      "0.22941231984397548\n"
     ]
    },
    {
     "data": {
      "text/plain": [
       "0.479"
      ]
     },
     "execution_count": 150,
     "metadata": {},
     "output_type": "execute_result"
    }
   ],
   "source": [
    "from sklearn.metrics import mean_squared_error\n",
    "\n",
    "print (mean_squared_error(y_pred, y_test)) # MSE\n",
    "round (mean_squared_error(y_pred, y_test, squared=False),3) # RMSE\n",
    "\n",
    "# squared bool, default=True\n",
    "# If True returns MSE value, if False returns RMSE value."
   ]
  },
  {
   "cell_type": "markdown",
   "id": "fdaac171-f467-42a9-9950-fad42de9531b",
   "metadata": {},
   "source": [
    "## Evaluating R2."
   ]
  },
  {
   "cell_type": "code",
   "execution_count": 152,
   "id": "926cc0d2-89e6-4e1d-9bd0-f5067c02621d",
   "metadata": {},
   "outputs": [
    {
     "name": "stdout",
     "output_type": "stream",
     "text": [
      "0.15188037885278016\n"
     ]
    }
   ],
   "source": [
    "from sklearn.metrics import r2_score\n",
    "print (r2_score(y_test, y_pred)) # test data"
   ]
  },
  {
   "cell_type": "code",
   "execution_count": null,
   "id": "c5b0eb1e-9f2e-4bf4-a473-442e0fc6577d",
   "metadata": {},
   "outputs": [],
   "source": []
  },
  {
   "cell_type": "code",
   "execution_count": null,
   "id": "00d24322-f5c7-4693-a057-fbdbd2eadc8d",
   "metadata": {},
   "outputs": [],
   "source": []
  },
  {
   "cell_type": "code",
   "execution_count": null,
   "id": "32e93a04-6ab7-476c-a53c-f620aab8a67f",
   "metadata": {},
   "outputs": [],
   "source": []
  },
  {
   "cell_type": "code",
   "execution_count": null,
   "id": "19c3866e-a47b-4922-8c2c-52e0ff338310",
   "metadata": {},
   "outputs": [],
   "source": []
  },
  {
   "cell_type": "code",
   "execution_count": null,
   "id": "38e5fcdf-29a6-43f4-b688-397f2bef6b02",
   "metadata": {},
   "outputs": [],
   "source": []
  }
 ],
 "metadata": {
  "kernelspec": {
   "display_name": "Python 3 (ipykernel)",
   "language": "python",
   "name": "python3"
  },
  "language_info": {
   "codemirror_mode": {
    "name": "ipython",
    "version": 3
   },
   "file_extension": ".py",
   "mimetype": "text/x-python",
   "name": "python",
   "nbconvert_exporter": "python",
   "pygments_lexer": "ipython3",
   "version": "3.12.4"
  }
 },
 "nbformat": 4,
 "nbformat_minor": 5
}
